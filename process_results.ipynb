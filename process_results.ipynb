{
 "cells": [
  {
   "cell_type": "code",
   "execution_count": 2,
   "metadata": {},
   "outputs": [],
   "source": [
    "import os\n",
    "import pandas as pd\n",
    "import numpy as np\n",
    "import matplotlib.pyplot as plt\n",
    "from data_analysis_utils import summarise_datasets, do_ttest, collate_results\n",
    "\n",
    "figsize = (12, 6)"
   ]
  },
  {
   "cell_type": "markdown",
   "metadata": {},
   "source": [
    "# Load in calibration results from .csv files"
   ]
  },
  {
   "cell_type": "code",
   "execution_count": 3,
   "metadata": {},
   "outputs": [
    {
     "data": {
      "text/plain": [
       "['charuco_freehand.csv',\n",
       " 'charuco_rig.csv',\n",
       " 'dots_freehand.csv',\n",
       " 'dots_rig.csv',\n",
       " 'precalib']"
      ]
     },
     "execution_count": 3,
     "metadata": {},
     "output_type": "execute_result"
    }
   ],
   "source": [
    "calib_data = {}\n",
    "\n",
    "path = './results'\n",
    "csv_files = [f for f in os.listdir(path) if f.endswith('.csv')]\n",
    "\n",
    "for csv in csv_files:\n",
    "    file = os.path.join(path, csv)\n",
    "    data_name = csv.split('.')[0]\n",
    "    calib_data[data_name] = pd.read_csv(file, index_col = 0)\n",
    "    \n",
    "os.listdir(path)"
   ]
  },
  {
   "cell_type": "code",
   "execution_count": 4,
   "metadata": {},
   "outputs": [],
   "source": [
    "SIZE = 18\n",
    "plt.rc('axes', titlesize=SIZE)     # fontsize of the axes title\n",
    "plt.rc('axes', labelsize=SIZE)    # fontsize of the x and y labels\n",
    "plt.rc('xtick', labelsize=SIZE)    # fontsize of the tick labels\n",
    "plt.rc('ytick', labelsize=SIZE)    # fontsize of the tick labels\n",
    "plt.rc('figure', titlesize=SIZE)  # fontsize of the figure title"
   ]
  },
  {
   "cell_type": "markdown",
   "metadata": {},
   "source": [
    "# Calibration and evaluation on same datasets"
   ]
  },
  {
   "cell_type": "markdown",
   "metadata": {},
   "source": [
    "## Summary statistics"
   ]
  },
  {
   "cell_type": "code",
   "execution_count": 5,
   "metadata": {},
   "outputs": [
    {
     "data": {
      "text/html": [
       "<div>\n",
       "<style scoped>\n",
       "    .dataframe tbody tr th:only-of-type {\n",
       "        vertical-align: middle;\n",
       "    }\n",
       "\n",
       "    .dataframe tbody tr th {\n",
       "        vertical-align: top;\n",
       "    }\n",
       "\n",
       "    .dataframe thead th {\n",
       "        text-align: right;\n",
       "    }\n",
       "</style>\n",
       "<table border=\"1\" class=\"dataframe\">\n",
       "  <thead>\n",
       "    <tr style=\"text-align: right;\">\n",
       "      <th></th>\n",
       "      <th>Reproj.</th>\n",
       "      <th>Recon.</th>\n",
       "      <th>Tracked Reproj.</th>\n",
       "      <th>Tracked Recon.</th>\n",
       "      <th>Mean Frame Grab Time</th>\n",
       "      <th>Mean Calibration Time</th>\n",
       "    </tr>\n",
       "  </thead>\n",
       "  <tbody>\n",
       "    <tr>\n",
       "      <th>charuco_rig</th>\n",
       "      <td>0.944777</td>\n",
       "      <td>1.363656</td>\n",
       "      <td>1.073905</td>\n",
       "      <td>1.365135</td>\n",
       "      <td>1.309425</td>\n",
       "      <td>15.517809</td>\n",
       "    </tr>\n",
       "    <tr>\n",
       "      <th>dots_rig</th>\n",
       "      <td>1.204787</td>\n",
       "      <td>0.921150</td>\n",
       "      <td>1.353985</td>\n",
       "      <td>0.928704</td>\n",
       "      <td>0.942623</td>\n",
       "      <td>9.795939</td>\n",
       "    </tr>\n",
       "    <tr>\n",
       "      <th>charuco_freehand</th>\n",
       "      <td>1.450244</td>\n",
       "      <td>1.893063</td>\n",
       "      <td>3.654756</td>\n",
       "      <td>3.055658</td>\n",
       "      <td>1.322061</td>\n",
       "      <td>30.057087</td>\n",
       "    </tr>\n",
       "    <tr>\n",
       "      <th>dots_freehand</th>\n",
       "      <td>1.835267</td>\n",
       "      <td>2.779876</td>\n",
       "      <td>3.173015</td>\n",
       "      <td>2.857304</td>\n",
       "      <td>1.033029</td>\n",
       "      <td>30.133889</td>\n",
       "    </tr>\n",
       "  </tbody>\n",
       "</table>\n",
       "</div>"
      ],
      "text/plain": [
       "                   Reproj.    Recon.  Tracked Reproj.  Tracked Recon.  \\\n",
       "charuco_rig       0.944777  1.363656         1.073905        1.365135   \n",
       "dots_rig          1.204787  0.921150         1.353985        0.928704   \n",
       "charuco_freehand  1.450244  1.893063         3.654756        3.055658   \n",
       "dots_freehand     1.835267  2.779876         3.173015        2.857304   \n",
       "\n",
       "                  Mean Frame Grab Time  Mean Calibration Time  \n",
       "charuco_rig                   1.309425              15.517809  \n",
       "dots_rig                      0.942623               9.795939  \n",
       "charuco_freehand              1.322061              30.057087  \n",
       "dots_freehand                 1.033029              30.133889  "
      ]
     },
     "execution_count": 5,
     "metadata": {},
     "output_type": "execute_result"
    },
    {
     "data": {
      "image/png": "[encoded data removed]",
      "text/plain": [
       "<Figure size 864x432 with 1 Axes>"
      ]
     },
     "metadata": {
      "needs_background": "light"
     },
     "output_type": "display_data"
    }
   ],
   "source": [
    "means, stds = summarise_datasets(calib_data, [\"charuco_rig\", \"dots_rig\", \"charuco_freehand\", \"dots_freehand\"])\n",
    "columns_to_plot = [\"Reproj.\", \"Recon.\", \"Tracked Reproj.\", \"Tracked Recon.\"]\n",
    "\n",
    "labels = [\"Reproj.\", \"Recon.\", \"Tracked Reproj.\", \"Tracked Recon.\"]\n",
    "\n",
    "fig1 = plt.figure(figsize=(figsize))\n",
    "ax1 = fig1.add_subplot(1, 1, 1)\n",
    "\n",
    "means[columns_to_plot].transpose().plot.bar(title=\"Mean Errors, Traditional Analysis\",\n",
    "                                            ax=ax1,\n",
    "                                            yerr=stds.transpose(),\n",
    "                                            ecolor='black',\n",
    "                                            capsize=3,\n",
    "                                            rot=0,\n",
    "                                            legend=None,\n",
    "                                            ylabel=\"Error in mm (Reproj.), pixels (Recon.)\",\n",
    "                                           edgecolor=[\"black\"])\n",
    "ax1.set_ylim(0, 10)\n",
    "\n",
    "n_charuco_rig = len(calib_data[\"charuco_rig\"])\n",
    "n_dots_rig = len(calib_data[\"dots_rig\"])\n",
    "n_charuco_freehand = len(calib_data[\"charuco_freehand\"])\n",
    "n_dots_freehand = len(calib_data[\"dots_freehand\"])\n",
    "\n",
    "L = ax1.legend(prop={'size': 16})\n",
    "legend = [f\"ChArUco Rig (n={n_charuco_rig})\", f\"Dots Rig (n={n_dots_rig})\", f\"ChArUco Freehand (n={n_charuco_freehand})\", f\"Dots Freehand (n={n_dots_freehand})\"]\n",
    "L.get_texts()[0].set_text(legend[0])\n",
    "L.get_texts()[1].set_text(legend[1])\n",
    "L.get_texts()[2].set_text(legend[2])\n",
    "L.get_texts()[3].set_text(legend[3])\n",
    "\n",
    "plt.savefig('plots/charuco_vs_dots_vs_freehand_mean.png', dpi=600)\n",
    "\n",
    "means\n",
    "\n"
   ]
  },
  {
   "cell_type": "code",
   "execution_count": 6,
   "metadata": {},
   "outputs": [
    {
     "data": {
      "text/html": [
       "<div>\n",
       "<style scoped>\n",
       "    .dataframe tbody tr th:only-of-type {\n",
       "        vertical-align: middle;\n",
       "    }\n",
       "\n",
       "    .dataframe tbody tr th {\n",
       "        vertical-align: top;\n",
       "    }\n",
       "\n",
       "    .dataframe thead th {\n",
       "        text-align: right;\n",
       "    }\n",
       "</style>\n",
       "<table border=\"1\" class=\"dataframe\">\n",
       "  <thead>\n",
       "    <tr style=\"text-align: right;\">\n",
       "      <th></th>\n",
       "      <th>Reproj.</th>\n",
       "      <th>Recon.</th>\n",
       "      <th>Tracked Reproj.</th>\n",
       "      <th>Tracked Recon.</th>\n",
       "      <th>Mean Frame Grab Time</th>\n",
       "      <th>Mean Calibration Time</th>\n",
       "    </tr>\n",
       "  </thead>\n",
       "  <tbody>\n",
       "    <tr>\n",
       "      <th>charuco_rig</th>\n",
       "      <td>0.944777</td>\n",
       "      <td>1.363656</td>\n",
       "      <td>1.073905</td>\n",
       "      <td>1.365135</td>\n",
       "      <td>1.309425</td>\n",
       "      <td>15.517809</td>\n",
       "    </tr>\n",
       "    <tr>\n",
       "      <th>dots_rig</th>\n",
       "      <td>1.204787</td>\n",
       "      <td>0.921150</td>\n",
       "      <td>1.353985</td>\n",
       "      <td>0.928704</td>\n",
       "      <td>0.942623</td>\n",
       "      <td>9.795939</td>\n",
       "    </tr>\n",
       "    <tr>\n",
       "      <th>charuco_freehand</th>\n",
       "      <td>1.450244</td>\n",
       "      <td>1.893063</td>\n",
       "      <td>3.654756</td>\n",
       "      <td>3.055658</td>\n",
       "      <td>1.322061</td>\n",
       "      <td>30.057087</td>\n",
       "    </tr>\n",
       "    <tr>\n",
       "      <th>dots_freehand</th>\n",
       "      <td>1.835267</td>\n",
       "      <td>2.779876</td>\n",
       "      <td>3.173015</td>\n",
       "      <td>2.857304</td>\n",
       "      <td>1.033029</td>\n",
       "      <td>30.133889</td>\n",
       "    </tr>\n",
       "  </tbody>\n",
       "</table>\n",
       "</div>"
      ],
      "text/plain": [
       "                   Reproj.    Recon.  Tracked Reproj.  Tracked Recon.  \\\n",
       "charuco_rig       0.944777  1.363656         1.073905        1.365135   \n",
       "dots_rig          1.204787  0.921150         1.353985        0.928704   \n",
       "charuco_freehand  1.450244  1.893063         3.654756        3.055658   \n",
       "dots_freehand     1.835267  2.779876         3.173015        2.857304   \n",
       "\n",
       "                  Mean Frame Grab Time  Mean Calibration Time  \n",
       "charuco_rig                   1.309425              15.517809  \n",
       "dots_rig                      0.942623               9.795939  \n",
       "charuco_freehand              1.322061              30.057087  \n",
       "dots_freehand                 1.033029              30.133889  "
      ]
     },
     "execution_count": 6,
     "metadata": {},
     "output_type": "execute_result"
    }
   ],
   "source": [
    "means"
   ]
  },
  {
   "cell_type": "code",
   "execution_count": 7,
   "metadata": {},
   "outputs": [
    {
     "data": {
      "text/html": [
       "<div>\n",
       "<style scoped>\n",
       "    .dataframe tbody tr th:only-of-type {\n",
       "        vertical-align: middle;\n",
       "    }\n",
       "\n",
       "    .dataframe tbody tr th {\n",
       "        vertical-align: top;\n",
       "    }\n",
       "\n",
       "    .dataframe thead th {\n",
       "        text-align: right;\n",
       "    }\n",
       "</style>\n",
       "<table border=\"1\" class=\"dataframe\">\n",
       "  <thead>\n",
       "    <tr style=\"text-align: right;\">\n",
       "      <th></th>\n",
       "      <th>Reproj.</th>\n",
       "      <th>Recon.</th>\n",
       "      <th>Tracked Reproj.</th>\n",
       "      <th>Tracked Recon.</th>\n",
       "      <th>Mean Frame Grab Time</th>\n",
       "      <th>Mean Calibration Time</th>\n",
       "    </tr>\n",
       "  </thead>\n",
       "  <tbody>\n",
       "    <tr>\n",
       "      <th>charuco_rig</th>\n",
       "      <td>0.079805</td>\n",
       "      <td>0.115014</td>\n",
       "      <td>0.197782</td>\n",
       "      <td>0.115315</td>\n",
       "      <td>0.059093</td>\n",
       "      <td>6.941421</td>\n",
       "    </tr>\n",
       "    <tr>\n",
       "      <th>dots_rig</th>\n",
       "      <td>0.128212</td>\n",
       "      <td>0.101223</td>\n",
       "      <td>0.156896</td>\n",
       "      <td>0.103366</td>\n",
       "      <td>0.058443</td>\n",
       "      <td>2.478851</td>\n",
       "    </tr>\n",
       "    <tr>\n",
       "      <th>charuco_freehand</th>\n",
       "      <td>0.434794</td>\n",
       "      <td>0.223273</td>\n",
       "      <td>1.251073</td>\n",
       "      <td>0.878488</td>\n",
       "      <td>0.280649</td>\n",
       "      <td>15.124466</td>\n",
       "    </tr>\n",
       "    <tr>\n",
       "      <th>dots_freehand</th>\n",
       "      <td>2.111298</td>\n",
       "      <td>4.542091</td>\n",
       "      <td>3.235573</td>\n",
       "      <td>4.343708</td>\n",
       "      <td>0.128403</td>\n",
       "      <td>7.151062</td>\n",
       "    </tr>\n",
       "  </tbody>\n",
       "</table>\n",
       "</div>"
      ],
      "text/plain": [
       "                   Reproj.    Recon.  Tracked Reproj.  Tracked Recon.  \\\n",
       "charuco_rig       0.079805  0.115014         0.197782        0.115315   \n",
       "dots_rig          0.128212  0.101223         0.156896        0.103366   \n",
       "charuco_freehand  0.434794  0.223273         1.251073        0.878488   \n",
       "dots_freehand     2.111298  4.542091         3.235573        4.343708   \n",
       "\n",
       "                  Mean Frame Grab Time  Mean Calibration Time  \n",
       "charuco_rig                   0.059093               6.941421  \n",
       "dots_rig                      0.058443               2.478851  \n",
       "charuco_freehand              0.280649              15.124466  \n",
       "dots_freehand                 0.128403               7.151062  "
      ]
     },
     "execution_count": 7,
     "metadata": {},
     "output_type": "execute_result"
    }
   ],
   "source": [
    "stds"
   ]
  },
  {
   "cell_type": "markdown",
   "metadata": {},
   "source": [
    "## Freehand vs Rig ttest"
   ]
  },
  {
   "cell_type": "code",
   "execution_count": 45,
   "metadata": {},
   "outputs": [
    {
     "name": "stdout",
     "output_type": "stream",
     "text": [
      "Reprojection p-value: 0.3699948550565948\n",
      "Reconstruction p-value: 0.22789576879181278\n",
      "Tracked Reprojection p-value: 0.109252069018247\n",
      "Tracked Reconstruction p-value: 0.19389779304394966\n",
      "Mean Calibration Time p-value: 5.0670245976510966e-06\n"
     ]
    }
   ],
   "source": [
    "t_test_vals = do_ttest(calib_data, \"dots_freehand\", \"dots_rig\")"
   ]
  },
  {
   "cell_type": "markdown",
   "metadata": {},
   "source": [
    "## Charuco vs Dots ttest"
   ]
  },
  {
   "cell_type": "code",
   "execution_count": 9,
   "metadata": {},
   "outputs": [
    {
     "name": "stdout",
     "output_type": "stream",
     "text": [
      "Reprojection p-value: 9.27435542486081e-09\n",
      "Reconstruction p-value: 2.3345561731264645e-15\n",
      "Tracked Reprojection p-value: 1.676298816770034e-05\n",
      "Tracked Reconstruction p-value: 4.615780069561303e-15\n",
      "Mean Calibration Time p-value: 0.0019958041923101616\n"
     ]
    }
   ],
   "source": [
    "t_test_vals = do_ttest(calib_data, \"charuco_rig\", \"dots_rig\")"
   ]
  },
  {
   "cell_type": "markdown",
   "metadata": {},
   "source": [
    "# Calibrate on one data set, evaluate on the remaining ones\n",
    "'Standard' approaches to calibration involve calbirating and evaluating on the same datasets, which will return favourable results, when compared to evaluating on a different set of data.\n",
    "\n",
    "Instead iterate through all datasets and use 1 for calibration, and then evaluate on the rest.\n",
    "\n",
    "This will results in n sets of results, where n is the total number of calibration data sets collected."
   ]
  },
  {
   "cell_type": "code",
   "execution_count": 10,
   "metadata": {},
   "outputs": [
    {
     "name": "stdout",
     "output_type": "stream",
     "text": [
      "Processing results/precalib/dots_rig\n",
      "Processing results/precalib/charuco_rig\n",
      "Processing results/precalib/charuco_freehand\n",
      "Processing results/precalib/dots_freehand\n"
     ]
    }
   ],
   "source": [
    "dots_folder = 'results/precalib/dots_rig'\n",
    "charuco_folder = 'results/precalib/charuco_rig'\n",
    "charuco_freehand_folder = 'results/precalib/charuco_freehand'\n",
    "dots_freehand_folder = 'results/precalib/dots_freehand'\n",
    "\n",
    "precalib_data = {}\n",
    "threshold = 1000\n",
    "\n",
    "precalib_data[\"dots_rig\"] = collate_results(dots_folder, threshold=threshold)\n",
    "precalib_data[\"charuco_rig\"] = collate_results(charuco_folder, threshold=threshold)\n",
    "precalib_data[\"charuco_freehand\"] = collate_results(charuco_freehand_folder, threshold=threshold)\n",
    "precalib_data[\"dots_freehand\"] = collate_results(dots_freehand_folder, threshold=threshold)\n",
    "\n"
   ]
  },
  {
   "cell_type": "markdown",
   "metadata": {},
   "source": [
    "## Summary Statistics"
   ]
  },
  {
   "cell_type": "code",
   "execution_count": 11,
   "metadata": {},
   "outputs": [
    {
     "name": "stdout",
     "output_type": "stream",
     "text": [
      "Mean Values\n"
     ]
    },
    {
     "data": {
      "text/html": [
       "<div>\n",
       "<style scoped>\n",
       "    .dataframe tbody tr th:only-of-type {\n",
       "        vertical-align: middle;\n",
       "    }\n",
       "\n",
       "    .dataframe tbody tr th {\n",
       "        vertical-align: top;\n",
       "    }\n",
       "\n",
       "    .dataframe thead th {\n",
       "        text-align: right;\n",
       "    }\n",
       "</style>\n",
       "<table border=\"1\" class=\"dataframe\">\n",
       "  <thead>\n",
       "    <tr style=\"text-align: right;\">\n",
       "      <th></th>\n",
       "      <th>Reproj.</th>\n",
       "      <th>Recon.</th>\n",
       "      <th>Tracked Reproj.</th>\n",
       "      <th>Tracked Recon.</th>\n",
       "      <th>Mean Frame Grab Time</th>\n",
       "      <th>Mean Calibration Time</th>\n",
       "    </tr>\n",
       "  </thead>\n",
       "  <tbody>\n",
       "    <tr>\n",
       "      <th>charuco_rig</th>\n",
       "      <td>1.078850</td>\n",
       "      <td>1.672023</td>\n",
       "      <td>1.183000</td>\n",
       "      <td>1.673288</td>\n",
       "      <td>1.347100</td>\n",
       "      <td>1.320425</td>\n",
       "    </tr>\n",
       "    <tr>\n",
       "      <th>dots_rig</th>\n",
       "      <td>1.605508</td>\n",
       "      <td>1.443878</td>\n",
       "      <td>1.777692</td>\n",
       "      <td>1.448706</td>\n",
       "      <td>0.952583</td>\n",
       "      <td>2.369233</td>\n",
       "    </tr>\n",
       "    <tr>\n",
       "      <th>charuco_freehand</th>\n",
       "      <td>2.047494</td>\n",
       "      <td>4.520967</td>\n",
       "      <td>3.478724</td>\n",
       "      <td>4.991561</td>\n",
       "      <td>1.369226</td>\n",
       "      <td>1.753600</td>\n",
       "    </tr>\n",
       "    <tr>\n",
       "      <th>dots_freehand</th>\n",
       "      <td>14.563183</td>\n",
       "      <td>9.922715</td>\n",
       "      <td>16.615240</td>\n",
       "      <td>10.090930</td>\n",
       "      <td>1.114629</td>\n",
       "      <td>1.978957</td>\n",
       "    </tr>\n",
       "  </tbody>\n",
       "</table>\n",
       "</div>"
      ],
      "text/plain": [
       "                    Reproj.    Recon.  Tracked Reproj.  Tracked Recon.  \\\n",
       "charuco_rig        1.078850  1.672023         1.183000        1.673288   \n",
       "dots_rig           1.605508  1.443878         1.777692        1.448706   \n",
       "charuco_freehand   2.047494  4.520967         3.478724        4.991561   \n",
       "dots_freehand     14.563183  9.922715        16.615240       10.090930   \n",
       "\n",
       "                  Mean Frame Grab Time  Mean Calibration Time  \n",
       "charuco_rig                   1.347100               1.320425  \n",
       "dots_rig                      0.952583               2.369233  \n",
       "charuco_freehand              1.369226               1.753600  \n",
       "dots_freehand                 1.114629               1.978957  "
      ]
     },
     "execution_count": 11,
     "metadata": {},
     "output_type": "execute_result"
    },
    {
     "data": {
      "image/png": "[encoded data removed]",
      "text/plain": [
       "<Figure size 864x432 with 1 Axes>"
      ]
     },
     "metadata": {
      "needs_background": "light"
     },
     "output_type": "display_data"
    }
   ],
   "source": [
    "precalib_means, precalib_stds = summarise_datasets(precalib_data, [\"charuco_rig\", \"dots_rig\", \"charuco_freehand\", \"dots_freehand\"])\n",
    "\n",
    "columns_to_plot = [\"Reproj.\", \"Recon.\", \"Tracked Reproj.\", \"Tracked Recon.\"]\n",
    "\n",
    "labels = [\"Reproj.\", \"Recon.\", \"Tracked Reproj.\", \"Tracked Recon.\"]\n",
    "\n",
    "fig1 = plt.figure(figsize=(figsize))\n",
    "ax1 = fig1.add_subplot(1, 1, 1)\n",
    "\n",
    "precalib_means[columns_to_plot].transpose().plot.bar(title=\"Mean Errors, Precalibration Analysis\",\n",
    "                                                     ax=ax1,\n",
    "                                                     yerr=precalib_stds[columns_to_plot].transpose(),\n",
    "                                                     ecolor='black',\n",
    "                                                     capsize=3,\n",
    "                                                     rot=0,\n",
    "                                                     legend=None,\n",
    "                                                     ylabel=\"Error in mm (Reproj.), pixels (Recon.)\",\n",
    "                                                    edgecolor=[\"black\"])\n",
    "ax1.set_ylim(0, 15)\n",
    "\n",
    "n_charuco_rig = len(precalib_data[\"charuco_rig\"])\n",
    "n_dots_rig = len(precalib_data[\"dots_rig\"])\n",
    "n_charuco_freehand = len(precalib_data[\"charuco_freehand\"])\n",
    "n_dots_freehand = len(precalib_data[\"dots_freehand\"])\n",
    "\n",
    "L = ax1.legend(prop={'size': 16}, loc='upper left')\n",
    "legend = [f\"ChArUco Rig (n={n_charuco_rig})\", f\"Dots Rig (n={n_dots_rig})\", f\"ChArUco Freehand (n={n_charuco_freehand})\", f\"Dots Freehand (n={n_dots_freehand})\"]\n",
    "L.get_texts()[0].set_text(legend[0])\n",
    "L.get_texts()[1].set_text(legend[1])\n",
    "L.get_texts()[2].set_text(legend[2])\n",
    "L.get_texts()[3].set_text(legend[3])\n",
    "\n",
    "\n",
    "plt.savefig('plots/_precalib_charuco_vs_dots_vs_freehand_mean.png', dpi=600)\n",
    "\n",
    "print(\"Mean Values\")\n",
    "precalib_means"
   ]
  },
  {
   "cell_type": "code",
   "execution_count": 12,
   "metadata": {},
   "outputs": [
    {
     "data": {
      "text/html": [
       "<div>\n",
       "<style scoped>\n",
       "    .dataframe tbody tr th:only-of-type {\n",
       "        vertical-align: middle;\n",
       "    }\n",
       "\n",
       "    .dataframe tbody tr th {\n",
       "        vertical-align: top;\n",
       "    }\n",
       "\n",
       "    .dataframe thead th {\n",
       "        text-align: right;\n",
       "    }\n",
       "</style>\n",
       "<table border=\"1\" class=\"dataframe\">\n",
       "  <thead>\n",
       "    <tr style=\"text-align: right;\">\n",
       "      <th></th>\n",
       "      <th>Reproj.</th>\n",
       "      <th>Recon.</th>\n",
       "      <th>Tracked Reproj.</th>\n",
       "      <th>Tracked Recon.</th>\n",
       "      <th>Mean Frame Grab Time</th>\n",
       "      <th>Mean Calibration Time</th>\n",
       "    </tr>\n",
       "  </thead>\n",
       "  <tbody>\n",
       "    <tr>\n",
       "      <th>charuco_rig</th>\n",
       "      <td>0.079805</td>\n",
       "      <td>0.115014</td>\n",
       "      <td>0.197782</td>\n",
       "      <td>0.115315</td>\n",
       "      <td>0.059093</td>\n",
       "      <td>6.941421</td>\n",
       "    </tr>\n",
       "    <tr>\n",
       "      <th>dots_rig</th>\n",
       "      <td>0.128212</td>\n",
       "      <td>0.101223</td>\n",
       "      <td>0.156896</td>\n",
       "      <td>0.103366</td>\n",
       "      <td>0.058443</td>\n",
       "      <td>2.478851</td>\n",
       "    </tr>\n",
       "    <tr>\n",
       "      <th>charuco_freehand</th>\n",
       "      <td>0.434794</td>\n",
       "      <td>0.223273</td>\n",
       "      <td>1.251073</td>\n",
       "      <td>0.878488</td>\n",
       "      <td>0.280649</td>\n",
       "      <td>15.124466</td>\n",
       "    </tr>\n",
       "    <tr>\n",
       "      <th>dots_freehand</th>\n",
       "      <td>2.111298</td>\n",
       "      <td>4.542091</td>\n",
       "      <td>3.235573</td>\n",
       "      <td>4.343708</td>\n",
       "      <td>0.128403</td>\n",
       "      <td>7.151062</td>\n",
       "    </tr>\n",
       "  </tbody>\n",
       "</table>\n",
       "</div>"
      ],
      "text/plain": [
       "                   Reproj.    Recon.  Tracked Reproj.  Tracked Recon.  \\\n",
       "charuco_rig       0.079805  0.115014         0.197782        0.115315   \n",
       "dots_rig          0.128212  0.101223         0.156896        0.103366   \n",
       "charuco_freehand  0.434794  0.223273         1.251073        0.878488   \n",
       "dots_freehand     2.111298  4.542091         3.235573        4.343708   \n",
       "\n",
       "                  Mean Frame Grab Time  Mean Calibration Time  \n",
       "charuco_rig                   0.059093               6.941421  \n",
       "dots_rig                      0.058443               2.478851  \n",
       "charuco_freehand              0.280649              15.124466  \n",
       "dots_freehand                 0.128403               7.151062  "
      ]
     },
     "execution_count": 12,
     "metadata": {},
     "output_type": "execute_result"
    }
   ],
   "source": [
    "stds"
   ]
  },
  {
   "cell_type": "code",
   "execution_count": 13,
   "metadata": {},
   "outputs": [
    {
     "data": {
      "text/html": [
       "<div>\n",
       "<style scoped>\n",
       "    .dataframe tbody tr th:only-of-type {\n",
       "        vertical-align: middle;\n",
       "    }\n",
       "\n",
       "    .dataframe tbody tr th {\n",
       "        vertical-align: top;\n",
       "    }\n",
       "\n",
       "    .dataframe thead th {\n",
       "        text-align: right;\n",
       "    }\n",
       "</style>\n",
       "<table border=\"1\" class=\"dataframe\">\n",
       "  <thead>\n",
       "    <tr style=\"text-align: right;\">\n",
       "      <th></th>\n",
       "      <th>charuco_rig</th>\n",
       "      <th>dots_rig</th>\n",
       "      <th>charuco_freehand</th>\n",
       "      <th>dots_freehand</th>\n",
       "    </tr>\n",
       "  </thead>\n",
       "  <tbody>\n",
       "    <tr>\n",
       "      <th>Reproj.</th>\n",
       "      <td>0.167765</td>\n",
       "      <td>0.439053</td>\n",
       "      <td>1.078454</td>\n",
       "      <td>36.019055</td>\n",
       "    </tr>\n",
       "    <tr>\n",
       "      <th>Recon.</th>\n",
       "      <td>0.369086</td>\n",
       "      <td>0.454967</td>\n",
       "      <td>3.940450</td>\n",
       "      <td>14.599854</td>\n",
       "    </tr>\n",
       "    <tr>\n",
       "      <th>Tracked Reproj.</th>\n",
       "      <td>0.253034</td>\n",
       "      <td>0.468270</td>\n",
       "      <td>1.704630</td>\n",
       "      <td>43.202983</td>\n",
       "    </tr>\n",
       "    <tr>\n",
       "      <th>Tracked Recon.</th>\n",
       "      <td>0.369530</td>\n",
       "      <td>0.454880</td>\n",
       "      <td>3.919854</td>\n",
       "      <td>15.073915</td>\n",
       "    </tr>\n",
       "  </tbody>\n",
       "</table>\n",
       "</div>"
      ],
      "text/plain": [
       "                 charuco_rig  dots_rig  charuco_freehand  dots_freehand\n",
       "Reproj.             0.167765  0.439053          1.078454      36.019055\n",
       "Recon.              0.369086  0.454967          3.940450      14.599854\n",
       "Tracked Reproj.     0.253034  0.468270          1.704630      43.202983\n",
       "Tracked Recon.      0.369530  0.454880          3.919854      15.073915"
      ]
     },
     "execution_count": 13,
     "metadata": {},
     "output_type": "execute_result"
    }
   ],
   "source": [
    "precalib_stds[columns_to_plot].transpose()"
   ]
  },
  {
   "cell_type": "markdown",
   "metadata": {},
   "source": [
    "## Freehand vs rig ttest"
   ]
  },
  {
   "cell_type": "code",
   "execution_count": 16,
   "metadata": {},
   "outputs": [
    {
     "name": "stdout",
     "output_type": "stream",
     "text": [
      "Reprojection p-value: 0.0009695088149761289\n",
      "Reconstruction p-value: 3.4648099678694737e-07\n",
      "Tracked Reprojection p-value: 0.0015887505564389883\n",
      "Tracked Reconstruction p-value: 4.6640903704717334e-07\n",
      "Mean Calibration Time p-value: 0.0008469878468014881\n"
     ]
    }
   ],
   "source": [
    "t_test_vals = do_ttest(precalib_data, \"dots_rig\", \"dots_freehand\")"
   ]
  },
  {
   "cell_type": "markdown",
   "metadata": {},
   "source": [
    "## Charuco vs dots ttest"
   ]
  },
  {
   "cell_type": "code",
   "execution_count": 17,
   "metadata": {},
   "outputs": [
    {
     "name": "stdout",
     "output_type": "stream",
     "text": [
      "Reprojection p-value: 2.9730343967866074e-74\n",
      "Reconstruction p-value: 9.730580415006255e-14\n",
      "Tracked Reprojection p-value: 2.1098992534040138e-77\n",
      "Tracked Reconstruction p-value: 2.3021697904649584e-13\n",
      "Mean Calibration Time p-value: 1.8288442565932075e-69\n"
     ]
    }
   ],
   "source": [
    "t_test_vals = do_ttest(precalib_data, \"dots_rig\", \"charuco_rig\")"
   ]
  },
  {
   "cell_type": "markdown",
   "metadata": {},
   "source": [
    "## Compare errors from the two analysis  methods"
   ]
  },
  {
   "cell_type": "code",
   "execution_count": 15,
   "metadata": {},
   "outputs": [
    {
     "data": {
      "image/png": "[encoded data removed]",
      "text/plain": [
       "<Figure size 864x432 with 1 Axes>"
      ]
     },
     "metadata": {
      "needs_background": "light"
     },
     "output_type": "display_data"
    },
    {
     "data": {
      "image/png": "[encoded data removed]",
      "text/plain": [
       "<Figure size 864x432 with 1 Axes>"
      ]
     },
     "metadata": {
      "needs_background": "light"
     },
     "output_type": "display_data"
    }
   ],
   "source": [
    "columns_to_plot = [\"Reproj.\", \"Recon.\", \"Tracked Reproj.\", \"Tracked Recon.\"]\n",
    "labels = [\"Reproj.\", \"Recon.\", \"Tracked Reproj.\", \"Tracked Recon.\"]\n",
    "\n",
    "charuco = pd.DataFrame()\n",
    "dots = pd.DataFrame()\n",
    "\n",
    "# Move the data into a format that can be plotted as desired\n",
    "charuco[\"With_precalib\"] = precalib_means.transpose()[\"charuco_rig\"]\n",
    "charuco[\"Without_precalib\"] = means.transpose()[\"charuco_rig\"]\n",
    "dots[\"With_precalib\"] = precalib_means.transpose()[\"dots_rig\"]\n",
    "dots[\"Without_precalib\"] = means.transpose()[\"dots_rig\"]\n",
    "\n",
    "charuco = charuco.transpose()\n",
    "dots = dots.transpose()\n",
    "\n",
    "# Plot Charuco\n",
    "fig1 = plt.figure(figsize=(figsize))\n",
    "ax1 = fig1.add_subplot(1, 1, 1)\n",
    "\n",
    "charuco[columns_to_plot].transpose().plot.bar(title=\"ChArUco Mean Errors with/without precalibration\",\n",
    "                                                        ax=ax1,\n",
    "                                                        legend=None,\n",
    "                                                        ylabel=\"Error in mm (Reproj.), pixels (Recon.)\",\n",
    "                                                        rot=0,\n",
    "                                                         edgecolor=[\"black\"])\n",
    "ax1.set_ylim(0, 3)\n",
    "\n",
    "L = ax1.legend(prop={'size': 16})\n",
    "legend = [f\"Precalibration\", f\"Traditional\"]\n",
    "L.get_texts()[0].set_text(legend[0])\n",
    "L.get_texts()[1].set_text(legend[1])\n",
    "\n",
    "plt.savefig('plots/charuco_precalib_vs_no_precalib.png', dpi=600)\n",
    "\n",
    "# Plot dots\n",
    "fig1 = plt.figure(figsize=(figsize))\n",
    "ax1 = fig1.add_subplot(1, 1, 1)\n",
    "\n",
    "dots[columns_to_plot].transpose().plot.bar(title=\"Dots Mean Errors with/without precalibration\",\n",
    "                                                        ax=ax1,\n",
    "                                                        legend=None,\n",
    "                                                       rot=0,\n",
    "                                                        ylabel=\"Error in mm (Reproj.), pixels (Recon.)\",\n",
    "                                                      edgecolor=[\"black\"])\n",
    "ax1.set_ylim(0, 3)\n",
    "\n",
    "L = ax1.legend(prop={'size': 16})\n",
    "legend = [f\"Precalibration\", f\"Traditional\"]\n",
    "L.get_texts()[0].set_text(legend[0])\n",
    "L.get_texts()[1].set_text(legend[1])\n",
    "\n",
    "plt.savefig('plots/Dots_precalib_vs_no_precalib.png', dpi=600)"
   ]
  },
  {
   "cell_type": "markdown",
   "metadata": {},
   "source": [
    "# Different number of samples"
   ]
  },
  {
   "cell_type": "code",
   "execution_count": 47,
   "metadata": {},
   "outputs": [
    {
     "name": "stdout",
     "output_type": "stream",
     "text": [
      "Processing results_diff_n/dots_rig_10\n",
      "Processing results_diff_n/dots_rig_5\n",
      "Processing results_diff_n/dots_rig_3\n"
     ]
    },
    {
     "data": {
      "text/html": [
       "<div>\n",
       "<style scoped>\n",
       "    .dataframe tbody tr th:only-of-type {\n",
       "        vertical-align: middle;\n",
       "    }\n",
       "\n",
       "    .dataframe tbody tr th {\n",
       "        vertical-align: top;\n",
       "    }\n",
       "\n",
       "    .dataframe thead th {\n",
       "        text-align: right;\n",
       "    }\n",
       "</style>\n",
       "<table border=\"1\" class=\"dataframe\">\n",
       "  <thead>\n",
       "    <tr style=\"text-align: right;\">\n",
       "      <th></th>\n",
       "      <th>Reproj.</th>\n",
       "      <th>Recon.</th>\n",
       "      <th>Tracked Reproj.</th>\n",
       "      <th>Tracked Recon.</th>\n",
       "      <th>Mean Frame Grab Time</th>\n",
       "      <th>Mean Calibration Time</th>\n",
       "    </tr>\n",
       "  </thead>\n",
       "  <tbody>\n",
       "    <tr>\n",
       "      <th>15_57_13</th>\n",
       "      <td>1.397531</td>\n",
       "      <td>1.094769</td>\n",
       "      <td>1.478487</td>\n",
       "      <td>1.102754</td>\n",
       "      <td>0.982440</td>\n",
       "      <td>13.394999</td>\n",
       "    </tr>\n",
       "    <tr>\n",
       "      <th>15_58_14</th>\n",
       "      <td>1.372075</td>\n",
       "      <td>1.161368</td>\n",
       "      <td>1.540830</td>\n",
       "      <td>1.177575</td>\n",
       "      <td>0.963948</td>\n",
       "      <td>10.746165</td>\n",
       "    </tr>\n",
       "    <tr>\n",
       "      <th>15_59_11</th>\n",
       "      <td>1.550059</td>\n",
       "      <td>1.378683</td>\n",
       "      <td>1.732694</td>\n",
       "      <td>1.421431</td>\n",
       "      <td>0.901973</td>\n",
       "      <td>11.186948</td>\n",
       "    </tr>\n",
       "    <tr>\n",
       "      <th>15_59_52</th>\n",
       "      <td>1.385915</td>\n",
       "      <td>1.082992</td>\n",
       "      <td>1.586555</td>\n",
       "      <td>1.083629</td>\n",
       "      <td>0.895087</td>\n",
       "      <td>7.633077</td>\n",
       "    </tr>\n",
       "    <tr>\n",
       "      <th>16_00_38</th>\n",
       "      <td>1.481266</td>\n",
       "      <td>1.145634</td>\n",
       "      <td>1.585814</td>\n",
       "      <td>1.150073</td>\n",
       "      <td>0.902732</td>\n",
       "      <td>7.090525</td>\n",
       "    </tr>\n",
       "    <tr>\n",
       "      <th>...</th>\n",
       "      <td>...</td>\n",
       "      <td>...</td>\n",
       "      <td>...</td>\n",
       "      <td>...</td>\n",
       "      <td>...</td>\n",
       "      <td>...</td>\n",
       "    </tr>\n",
       "    <tr>\n",
       "      <th>16_11_21</th>\n",
       "      <td>1.205701</td>\n",
       "      <td>1.336083</td>\n",
       "      <td>1.318981</td>\n",
       "      <td>1.350099</td>\n",
       "      <td>0.908573</td>\n",
       "      <td>9.996792</td>\n",
       "    </tr>\n",
       "    <tr>\n",
       "      <th>16_12_00</th>\n",
       "      <td>1.498351</td>\n",
       "      <td>1.344565</td>\n",
       "      <td>1.629092</td>\n",
       "      <td>1.352468</td>\n",
       "      <td>0.873867</td>\n",
       "      <td>7.662481</td>\n",
       "    </tr>\n",
       "    <tr>\n",
       "      <th>16_12_49</th>\n",
       "      <td>1.668500</td>\n",
       "      <td>1.272090</td>\n",
       "      <td>1.786314</td>\n",
       "      <td>1.293742</td>\n",
       "      <td>0.797339</td>\n",
       "      <td>8.250273</td>\n",
       "    </tr>\n",
       "    <tr>\n",
       "      <th>16_13_39</th>\n",
       "      <td>1.384089</td>\n",
       "      <td>1.164809</td>\n",
       "      <td>1.567955</td>\n",
       "      <td>1.176358</td>\n",
       "      <td>0.811529</td>\n",
       "      <td>9.172129</td>\n",
       "    </tr>\n",
       "    <tr>\n",
       "      <th>16_20_03</th>\n",
       "      <td>1.408740</td>\n",
       "      <td>1.260172</td>\n",
       "      <td>1.480383</td>\n",
       "      <td>1.256926</td>\n",
       "      <td>0.948285</td>\n",
       "      <td>12.091251</td>\n",
       "    </tr>\n",
       "  </tbody>\n",
       "</table>\n",
       "<p>380 rows × 6 columns</p>\n",
       "</div>"
      ],
      "text/plain": [
       "           Reproj.    Recon.  Tracked Reproj.  Tracked Recon.  \\\n",
       "15_57_13  1.397531  1.094769         1.478487        1.102754   \n",
       "15_58_14  1.372075  1.161368         1.540830        1.177575   \n",
       "15_59_11  1.550059  1.378683         1.732694        1.421431   \n",
       "15_59_52  1.385915  1.082992         1.586555        1.083629   \n",
       "16_00_38  1.481266  1.145634         1.585814        1.150073   \n",
       "...            ...       ...              ...             ...   \n",
       "16_11_21  1.205701  1.336083         1.318981        1.350099   \n",
       "16_12_00  1.498351  1.344565         1.629092        1.352468   \n",
       "16_12_49  1.668500  1.272090         1.786314        1.293742   \n",
       "16_13_39  1.384089  1.164809         1.567955        1.176358   \n",
       "16_20_03  1.408740  1.260172         1.480383        1.256926   \n",
       "\n",
       "          Mean Frame Grab Time  Mean Calibration Time  \n",
       "15_57_13              0.982440              13.394999  \n",
       "15_58_14              0.963948              10.746165  \n",
       "15_59_11              0.901973              11.186948  \n",
       "15_59_52              0.895087               7.633077  \n",
       "16_00_38              0.902732               7.090525  \n",
       "...                        ...                    ...  \n",
       "16_11_21              0.908573               9.996792  \n",
       "16_12_00              0.873867               7.662481  \n",
       "16_12_49              0.797339               8.250273  \n",
       "16_13_39              0.811529               9.172129  \n",
       "16_20_03              0.948285              12.091251  \n",
       "\n",
       "[380 rows x 6 columns]"
      ]
     },
     "execution_count": 47,
     "metadata": {},
     "output_type": "execute_result"
    }
   ],
   "source": [
    "dots_rig_10_folder = 'results_diff_n/dots_rig_10'\n",
    "dots_rig_5_folder = 'results_diff_n/dots_rig_5'\n",
    "dots_rig_3_folder = 'results_diff_n/dots_rig_3'\n",
    "\n",
    "\n",
    "diff_n_data = {}\n",
    "threshold = 1000\n",
    "\n",
    "diff_n_data[\"10\"] = collate_results(dots_rig_10_folder, threshold=threshold)\n",
    "diff_n_data[\"5\"] = collate_results(dots_rig_5_folder, threshold=threshold)\n",
    "diff_n_data[\"3\"] = collate_results(dots_rig_3_folder, threshold=threshold)\n"
   ]
  },
  {
   "cell_type": "code",
   "execution_count": 38,
   "metadata": {},
   "outputs": [
    {
     "name": "stdout",
     "output_type": "stream",
     "text": [
      "Mean Values\n"
     ]
    },
    {
     "data": {
      "text/html": [
       "<div>\n",
       "<style scoped>\n",
       "    .dataframe tbody tr th:only-of-type {\n",
       "        vertical-align: middle;\n",
       "    }\n",
       "\n",
       "    .dataframe tbody tr th {\n",
       "        vertical-align: top;\n",
       "    }\n",
       "\n",
       "    .dataframe thead th {\n",
       "        text-align: right;\n",
       "    }\n",
       "</style>\n",
       "<table border=\"1\" class=\"dataframe\">\n",
       "  <thead>\n",
       "    <tr style=\"text-align: right;\">\n",
       "      <th></th>\n",
       "      <th>Reproj.</th>\n",
       "      <th>Recon.</th>\n",
       "      <th>Tracked Reproj.</th>\n",
       "      <th>Tracked Recon.</th>\n",
       "      <th>Mean Frame Grab Time</th>\n",
       "      <th>Mean Calibration Time</th>\n",
       "    </tr>\n",
       "  </thead>\n",
       "  <tbody>\n",
       "    <tr>\n",
       "      <th>10</th>\n",
       "      <td>1.475971</td>\n",
       "      <td>1.373476</td>\n",
       "      <td>1.637744</td>\n",
       "      <td>1.378562</td>\n",
       "      <td>0.866719</td>\n",
       "      <td>9.165425</td>\n",
       "    </tr>\n",
       "    <tr>\n",
       "      <th>5</th>\n",
       "      <td>1.605508</td>\n",
       "      <td>1.443878</td>\n",
       "      <td>1.777692</td>\n",
       "      <td>1.448706</td>\n",
       "      <td>0.952583</td>\n",
       "      <td>2.369233</td>\n",
       "    </tr>\n",
       "    <tr>\n",
       "      <th>3</th>\n",
       "      <td>2.005864</td>\n",
       "      <td>1.599952</td>\n",
       "      <td>2.323618</td>\n",
       "      <td>1.630561</td>\n",
       "      <td>0.997648</td>\n",
       "      <td>0.955073</td>\n",
       "    </tr>\n",
       "  </tbody>\n",
       "</table>\n",
       "</div>"
      ],
      "text/plain": [
       "     Reproj.    Recon.  Tracked Reproj.  Tracked Recon.  Mean Frame Grab Time  \\\n",
       "10  1.475971  1.373476         1.637744        1.378562              0.866719   \n",
       "5   1.605508  1.443878         1.777692        1.448706              0.952583   \n",
       "3   2.005864  1.599952         2.323618        1.630561              0.997648   \n",
       "\n",
       "    Mean Calibration Time  \n",
       "10               9.165425  \n",
       "5                2.369233  \n",
       "3                0.955073  "
      ]
     },
     "execution_count": 38,
     "metadata": {},
     "output_type": "execute_result"
    },
    {
     "data": {
      "image/png": "[encoded data removed]",
      "text/plain": [
       "<Figure size 864x432 with 1 Axes>"
      ]
     },
     "metadata": {
      "needs_background": "light"
     },
     "output_type": "display_data"
    }
   ],
   "source": [
    "precalib_means, precalib_stds = summarise_datasets(diff_n_data, [\"10\", \"5\", \"3\"])\n",
    "\n",
    "columns_to_plot = [\"Reproj.\", \"Recon.\", \"Tracked Reproj.\", \"Tracked Recon.\"]\n",
    "\n",
    "labels = [\"Reproj.\", \"Recon.\", \"Tracked Reproj.\", \"Tracked Recon.\"]\n",
    "\n",
    "fig1 = plt.figure(figsize=(figsize))\n",
    "ax1 = fig1.add_subplot(1, 1, 1)\n",
    "\n",
    "precalib_means[columns_to_plot].transpose().plot.bar(title=\"Mean Errors, Varying Number of Frames Used For Calibration\",\n",
    "                                                     ax=ax1,\n",
    "                                                     yerr=precalib_stds[columns_to_plot].transpose(),\n",
    "                                                     ecolor='black',\n",
    "                                                     capsize=3,\n",
    "                                                     rot=0,\n",
    "                                                     legend=None,\n",
    "                                                     ylabel=\"Error in mm (Reproj.), pixels (Recon.)\",\n",
    "                                                    edgecolor=[\"black\"])\n",
    "ax1.set_ylim(0, 5)\n",
    "\n",
    "# n_charuco_rig = len(precalib_data[\"charuco_rig\"])\n",
    "# n_dots_rig = len(precalib_data[\"dots_rig\"])\n",
    "# n_charuco_freehand = len(precalib_data[\"charuco_freehand\"])\n",
    "# n_dots_freehand = len(precalib_data[\"dots_freehand\"])\n",
    "\n",
    "L = ax1.legend(prop={'size': 16}, loc='upper left')\n",
    "legend = [f\"10 frames, 9.80s\", \"5 frames, 2.34s\", \"3 frames, 0.96s\"]\n",
    "L.get_texts()[0].set_text(legend[0])\n",
    "L.get_texts()[1].set_text(legend[1])\n",
    "L.get_texts()[2].set_text(legend[2])\n",
    "\n",
    "\n",
    "\n",
    "plt.savefig('plots/precalib_dots_different_n.png', dpi=600)\n",
    "\n",
    "print(\"Mean Values\")\n",
    "precalib_means"
   ]
  },
  {
   "cell_type": "markdown",
   "metadata": {},
   "source": [
    "# Additional t-tests"
   ]
  },
  {
   "cell_type": "code",
   "execution_count": 50,
   "metadata": {},
   "outputs": [
    {
     "name": "stdout",
     "output_type": "stream",
     "text": [
      "charuco_rig Reproj. p-value: 2.0650472442732718e-07\n",
      "charuco_rig Recon. p-value: 1.720787764716614e-12\n",
      "charuco_rig Tracked Reproj. p-value: 0.026977109460713366\n",
      "charuco_rig Tracked Recon. p-value: 1.911689123939269e-12\n",
      "dots_rig Reproj. p-value: 8.502587307058538e-15\n",
      "dots_rig Recon. p-value: 2.971293801125478e-26\n",
      "dots_rig Tracked Reproj. p-value: 1.839196059106339e-12\n",
      "dots_rig Tracked Recon. p-value: 2.0683279255113106e-25\n",
      "10 vs 3 frames\n",
      "Reproj. p-value: 7.179388770319227e-14\n",
      "Recon. p-value: 2.2437492511647226e-07\n",
      "Tracked Reproj. p-value: 1.1810084397219393e-08\n",
      "Tracked Recon. p-value: 1.0521748804314073e-07\n",
      "Mean Calibration Time p-value: 1.1956292996827266e-249\n"
     ]
    }
   ],
   "source": [
    "from scipy.stats import ttest_ind\n",
    "\n",
    "for data_type in [\"charuco_rig\", \"dots_rig\"]:\n",
    "    for i in [\"Reproj.\", \"Recon.\", \"Tracked Reproj.\", \"Tracked Recon.\"]:\n",
    "        calib = calib_data[data_type][i]\n",
    "        precalib = precalib_data[data_type][i]\n",
    "\n",
    "        ttest = ttest_ind(calib, precalib, equal_var=False)\n",
    "        print(f\"{data_type} {i} p-value: {ttest.pvalue}\")\n",
    "\n",
    "print(\"10 vs 3 frames\")\n",
    "for i in [\"Reproj.\", \"Recon.\", \"Tracked Reproj.\", \"Tracked Recon.\", \"Mean Calibration Time\"]:\n",
    "    ten = diff_n_data[\"10\"][i]\n",
    "    three = diff_n_data[\"3\"][i]\n",
    "    ttest = ttest_ind(ten, three, equal_var=False)\n",
    "    print(f\"{i} p-value: {ttest.pvalue}\")\n"
   ]
  },
  {
   "cell_type": "code",
   "execution_count": null,
   "metadata": {},
   "outputs": [],
   "source": [
    "    label1_data = all_data[label1]\n",
    "    label2_data = all_data[label2]\n",
    "\n",
    "    cat1 = label1_data[\"Reproj.\"]\n",
    "    cat2 = label2_data[\"Reproj.\"]\n",
    "    reproj = ttest_ind(cat1, cat2, equal_var=False)\n",
    "          \n",
    "    cat1 = label1_data[\"Recon.\"]\n",
    "    cat2 = label2_data[\"Recon.\"]\n",
    "    recon = ttest_ind(cat1, cat2, equal_var=False)\n",
    "    \n",
    "    cat1 = label1_data[\"Tracked Reproj.\"]\n",
    "    cat2 = label2_data[\"Tracked Reproj.\"]\n",
    "    tracked_reproj = ttest_ind(cat1, cat2, equal_var=False)\n",
    "    \n",
    "    cat1 = label1_data[\"Tracked Recon.\"]\n",
    "    cat2 = label2_data[\"Tracked Recon.\"]\n",
    "    tracked_recon = ttest_ind(cat1, cat2, equal_var=False)\n",
    "    \n",
    "    cat1 = label1_data[\"Mean Calibration Time\"]\n",
    "    cat2 = label2_data[\"Mean Calibration Time\"]\n",
    "    calib_time = ttest_ind(cat1, cat2, equal_var=False)"
   ]
  }
 ],
 "metadata": {
  "kernelspec": {
   "display_name": "Python 3 (ipykernel)",
   "language": "python",
   "name": "python3"
  },
  "language_info": {
   "codemirror_mode": {
    "name": "ipython",
    "version": 3
   },
   "file_extension": ".py",
   "mimetype": "text/x-python",
   "name": "python",
   "nbconvert_exporter": "python",
   "pygments_lexer": "ipython3",
   "version": "3.7.9"
  }
 },
 "nbformat": 4,
 "nbformat_minor": 4
}
