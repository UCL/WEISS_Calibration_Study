{
 "cells": [
  {
   "cell_type": "code",
   "execution_count": 4,
   "metadata": {},
   "outputs": [],
   "source": [
    "import os\n",
    "import pandas as pd\n",
    "import numpy as np\n",
    "import matplotlib.pyplot as plt\n",
    "from scipy.stats import ttest_ind\n",
    "from data_analysis_utils import summarise_datasets, do_ttest, collate_results\n",
    "\n",
    "figsize = (12, 6)"
   ]
  },
  {
   "cell_type": "markdown",
   "metadata": {},
   "source": [
    "# Load in calibration results from .csv files"
   ]
  },
  {
   "cell_type": "code",
   "execution_count": 5,
   "metadata": {},
   "outputs": [],
   "source": [
    "calib_data = {}\n",
    "\n",
    "path = './results'\n",
    "csv_files = [f for f in os.listdir(path) if f.endswith('.csv')]\n",
    "\n",
    "for csv in csv_files:\n",
    "    file = os.path.join(path, csv)\n",
    "    data_name = csv.split('.')[0]\n",
    "    calib_data[data_name] = pd.read_csv(file, index_col = 0)"
   ]
  },
  {
   "cell_type": "markdown",
   "metadata": {},
   "source": [
    "# Calibration and evaluation on same datasets"
   ]
  },
  {
   "cell_type": "markdown",
   "metadata": {},
   "source": [
    "## Summary statistics"
   ]
  },
  {
   "cell_type": "code",
   "execution_count": 6,
   "metadata": {},
   "outputs": [
    {
     "data": {
      "text/html": [
       "<div>\n",
       "<style scoped>\n",
       "    .dataframe tbody tr th:only-of-type {\n",
       "        vertical-align: middle;\n",
       "    }\n",
       "\n",
       "    .dataframe tbody tr th {\n",
       "        vertical-align: top;\n",
       "    }\n",
       "\n",
       "    .dataframe thead th {\n",
       "        text-align: right;\n",
       "    }\n",
       "</style>\n",
       "<table border=\"1\" class=\"dataframe\">\n",
       "  <thead>\n",
       "    <tr style=\"text-align: right;\">\n",
       "      <th></th>\n",
       "      <th>Reproj.</th>\n",
       "      <th>Recon.</th>\n",
       "      <th>Tracked Reproj.</th>\n",
       "      <th>Tracked Recon.</th>\n",
       "      <th>Mean Frame Grab Time</th>\n",
       "      <th>Mean Calibration Time</th>\n",
       "    </tr>\n",
       "  </thead>\n",
       "  <tbody>\n",
       "    <tr>\n",
       "      <th>charuco_rig</th>\n",
       "      <td>0.944777</td>\n",
       "      <td>1.363656</td>\n",
       "      <td>1.073905</td>\n",
       "      <td>1.365135</td>\n",
       "      <td>1.319827</td>\n",
       "      <td>14.926883</td>\n",
       "    </tr>\n",
       "    <tr>\n",
       "      <th>dots_rig</th>\n",
       "      <td>1.199550</td>\n",
       "      <td>0.925462</td>\n",
       "      <td>1.349359</td>\n",
       "      <td>0.933968</td>\n",
       "      <td>0.912419</td>\n",
       "      <td>10.119291</td>\n",
       "    </tr>\n",
       "    <tr>\n",
       "      <th>charuco_freehand</th>\n",
       "      <td>1.343829</td>\n",
       "      <td>2.232005</td>\n",
       "      <td>4.242161</td>\n",
       "      <td>3.367961</td>\n",
       "      <td>1.735755</td>\n",
       "      <td>22.619610</td>\n",
       "    </tr>\n",
       "  </tbody>\n",
       "</table>\n",
       "</div>"
      ],
      "text/plain": [
       "                   Reproj.    Recon.  Tracked Reproj.  Tracked Recon.  \\\n",
       "charuco_rig       0.944777  1.363656         1.073905        1.365135   \n",
       "dots_rig          1.199550  0.925462         1.349359        0.933968   \n",
       "charuco_freehand  1.343829  2.232005         4.242161        3.367961   \n",
       "\n",
       "                  Mean Frame Grab Time  Mean Calibration Time  \n",
       "charuco_rig                   1.319827              14.926883  \n",
       "dots_rig                      0.912419              10.119291  \n",
       "charuco_freehand              1.735755              22.619610  "
      ]
     },
     "execution_count": 6,
     "metadata": {},
     "output_type": "execute_result"
    },
    {
     "data": {
      "image/png": "[encoded data removed]",
      "text/plain": [
       "<Figure size 864x432 with 1 Axes>"
      ]
     },
     "metadata": {
      "needs_background": "light"
     },
     "output_type": "display_data"
    }
   ],
   "source": [
    "means, stds = summarise_datasets(calib_data, [\"charuco_rig\", \"dots_rig\", \"charuco_freehand\"])\n",
    "columns_to_plot = [\"Reproj.\", \"Recon.\", \"Tracked Reproj.\", \"Tracked Recon.\"]\n",
    "\n",
    "labels = [\"Reproj.\", \"Recon.\", \"Tracked Reproj.\", \"Tracked Recon.\"]\n",
    "\n",
    "fig1 = plt.figure(figsize=(figsize))\n",
    "ax1 = fig1.add_subplot(1, 1, 1)\n",
    "\n",
    "means[columns_to_plot].transpose().plot.bar(title=\"Mean Errors\",\n",
    "                                            ax=ax1,\n",
    "                                            yerr=stds.transpose(),\n",
    "                                            ecolor='black',\n",
    "                                            capsize=3,\n",
    "                                            rot=0,\n",
    "                                            legend=None,\n",
    "                                            ylabel=\"Error in mm (Reproj.), pixels (Recon.)\",\n",
    "                                           edgecolor=[\"black\"])\n",
    "ax1.set_ylim(0, 10)\n",
    "\n",
    "n_charuco_rig = len(calib_data[\"charuco_rig\"])\n",
    "n_dots_rig = len(calib_data[\"dots_rig\"])\n",
    "n_charuco_freehand = len(calib_data[\"charuco_freehand\"])\n",
    "\n",
    "L = ax1.legend()\n",
    "legend = [f\"ChArUco Rig (n={n_charuco_rig})\", f\"Dots Rig (n={n_dots_rig})\", f\"ChArUco Freehand (n={n_charuco_freehand})\"]\n",
    "L.get_texts()[0].set_text(legend[0])\n",
    "L.get_texts()[1].set_text(legend[1])\n",
    "L.get_texts()[2].set_text(legend[2])\n",
    "\n",
    "plt.savefig('plots/charuco_vs_dots_vs_freehand_mean.png', dpi=600)\n",
    "\n",
    "means"
   ]
  },
  {
   "cell_type": "code",
   "execution_count": 7,
   "metadata": {},
   "outputs": [
    {
     "ename": "KeyError",
     "evalue": "'charuco_rig-iterative'",
     "output_type": "error",
     "traceback": [
      "\u001b[1;31m---------------------------------------------------------------------------\u001b[0m",
      "\u001b[1;31mKeyError\u001b[0m                                  Traceback (most recent call last)",
      "\u001b[1;32m~\\AppData\\Local\\Temp/ipykernel_32352/1643857255.py\u001b[0m in \u001b[0;36m<module>\u001b[1;34m\u001b[0m\n\u001b[1;32m----> 1\u001b[1;33m \u001b[0miterative_vs_non_iterative_mean\u001b[0m\u001b[1;33m,\u001b[0m \u001b[0miterative_vs_non_iterative_std\u001b[0m \u001b[1;33m=\u001b[0m \u001b[0msummarise_datasets\u001b[0m\u001b[1;33m(\u001b[0m\u001b[0mcalib_data\u001b[0m\u001b[1;33m,\u001b[0m \u001b[1;33m[\u001b[0m\u001b[1;34m\"charuco_rig\"\u001b[0m\u001b[1;33m,\u001b[0m \u001b[1;34m\"charuco_rig-iterative\"\u001b[0m\u001b[1;33m]\u001b[0m\u001b[1;33m)\u001b[0m\u001b[1;33m\u001b[0m\u001b[1;33m\u001b[0m\u001b[0m\n\u001b[0m\u001b[0;32m      2\u001b[0m \u001b[1;33m\u001b[0m\u001b[0m\n\u001b[0;32m      3\u001b[0m \u001b[0mcolumns_to_plot\u001b[0m \u001b[1;33m=\u001b[0m \u001b[1;33m[\u001b[0m\u001b[1;34m\"Reproj.\"\u001b[0m\u001b[1;33m,\u001b[0m \u001b[1;34m\"Recon.\"\u001b[0m\u001b[1;33m,\u001b[0m \u001b[1;34m\"Tracked Reproj.\"\u001b[0m\u001b[1;33m,\u001b[0m \u001b[1;34m\"Tracked Recon.\"\u001b[0m\u001b[1;33m]\u001b[0m\u001b[1;33m\u001b[0m\u001b[1;33m\u001b[0m\u001b[0m\n\u001b[0;32m      4\u001b[0m \u001b[1;33m\u001b[0m\u001b[0m\n\u001b[0;32m      5\u001b[0m \u001b[0mfig1\u001b[0m \u001b[1;33m=\u001b[0m \u001b[0mplt\u001b[0m\u001b[1;33m.\u001b[0m\u001b[0mfigure\u001b[0m\u001b[1;33m(\u001b[0m\u001b[0mfigsize\u001b[0m\u001b[1;33m=\u001b[0m\u001b[1;33m(\u001b[0m\u001b[1;36m12\u001b[0m\u001b[1;33m,\u001b[0m\u001b[1;36m6\u001b[0m\u001b[1;33m)\u001b[0m\u001b[1;33m)\u001b[0m\u001b[1;33m\u001b[0m\u001b[1;33m\u001b[0m\u001b[0m\n",
      "\u001b[1;32mC:\\data\\data\\SmartLiver\\Calibration-study\\data_analysis_utils.py\u001b[0m in \u001b[0;36msummarise_datasets\u001b[1;34m(all_data, names)\u001b[0m\n\u001b[0;32m     11\u001b[0m \u001b[1;33m\u001b[0m\u001b[0m\n\u001b[0;32m     12\u001b[0m     \u001b[1;32mfor\u001b[0m \u001b[0mname\u001b[0m \u001b[1;32min\u001b[0m \u001b[0mnames\u001b[0m\u001b[1;33m:\u001b[0m\u001b[1;33m\u001b[0m\u001b[1;33m\u001b[0m\u001b[0m\n\u001b[1;32m---> 13\u001b[1;33m         \u001b[0mmeans\u001b[0m\u001b[1;33m.\u001b[0m\u001b[0mappend\u001b[0m\u001b[1;33m(\u001b[0m\u001b[0mall_data\u001b[0m\u001b[1;33m[\u001b[0m\u001b[0mname\u001b[0m\u001b[1;33m]\u001b[0m\u001b[1;33m.\u001b[0m\u001b[0mmean\u001b[0m\u001b[1;33m(\u001b[0m\u001b[1;33m)\u001b[0m\u001b[1;33m)\u001b[0m\u001b[1;33m\u001b[0m\u001b[1;33m\u001b[0m\u001b[0m\n\u001b[0m\u001b[0;32m     14\u001b[0m         \u001b[0mstds\u001b[0m\u001b[1;33m.\u001b[0m\u001b[0mappend\u001b[0m\u001b[1;33m(\u001b[0m\u001b[0mall_data\u001b[0m\u001b[1;33m[\u001b[0m\u001b[0mname\u001b[0m\u001b[1;33m]\u001b[0m\u001b[1;33m.\u001b[0m\u001b[0mstd\u001b[0m\u001b[1;33m(\u001b[0m\u001b[1;33m)\u001b[0m\u001b[1;33m)\u001b[0m\u001b[1;33m\u001b[0m\u001b[1;33m\u001b[0m\u001b[0m\n\u001b[0;32m     15\u001b[0m         \u001b[0mindexes\u001b[0m\u001b[1;33m.\u001b[0m\u001b[0mappend\u001b[0m\u001b[1;33m(\u001b[0m\u001b[0mname\u001b[0m\u001b[1;33m)\u001b[0m\u001b[1;33m\u001b[0m\u001b[1;33m\u001b[0m\u001b[0m\n",
      "\u001b[1;31mKeyError\u001b[0m: 'charuco_rig-iterative'"
     ]
    }
   ],
   "source": [
    "iterative_vs_non_iterative_mean, iterative_vs_non_iterative_std = summarise_datasets(calib_data, [\"charuco_rig\", \"charuco_rig-iterative\"])\n",
    "\n",
    "columns_to_plot = [\"Reproj.\", \"Recon.\", \"Tracked Reproj.\", \"Tracked Recon.\"]\n",
    "\n",
    "fig1 = plt.figure(figsize=(12,6))\n",
    "ax1 = fig1.add_subplot(1, 1, 1)\n",
    "\n",
    "iterative_vs_non_iterative_mean[columns_to_plot].transpose().plot.bar(ax=ax1, title=\"Iterative vs  Non Iterative Mean Error\", rot=0)\n",
    "iterative_vs_non_iterative_std[columns_to_plot].transpose().plot.bar(title=\"Iterative vs  Non Iterative Standard Deviation\", rot=0)\n",
    "\n",
    "n_rig = len(calib_data[\"charuco_rig\"])\n",
    "n_iterative = len(calib_data[\"charuco_rig-iterative\"])\n",
    "\n",
    "L = ax1.legend()\n",
    "legend = [f\"Charuco Rig (n={n_rig})\", f\"Charuco Rig Iterative (n={n_iterative})\"]\n",
    "L.get_texts()[0].set_text(legend[0])\n",
    "L.get_texts()[1].set_text(legend[1])\n",
    "\n",
    "fig1.savefig('plots/charuco_iterative_vs_noniterative_mean.png', dpi=600)\n",
    "\n",
    "do_ttest(calib_data, \"charuco_rig-iterative\", \"charuco_rig\")\n",
    "iterative_vs_non_iterative_mean"
   ]
  },
  {
   "cell_type": "markdown",
   "metadata": {},
   "source": [
    "# Calibrate on one data set, evaluate on the remaining ones\n",
    "'Standard' approaches to calibration involve calbirating and evaluating on the same datasets, which will return favourable results, when compared to evaluating on a different set of data.\n",
    "\n",
    "Instead iterate through all datasets and use 1 for calibration, and then evaluate on the rest.\n",
    "\n",
    "This will results in n sets of results, where n is the total number of calibration data sets collected."
   ]
  },
  {
   "cell_type": "code",
   "execution_count": 8,
   "metadata": {},
   "outputs": [
    {
     "name": "stdout",
     "output_type": "stream",
     "text": [
      "Processing results/precalib/dots_rig\n",
      "Processing results/precalib/charuco_rig\n",
      "Processing results/precalib/charuco_freehand\n"
     ]
    }
   ],
   "source": [
    "dots_folder = 'results/precalib/dots_rig'\n",
    "charuco_folder = 'results/precalib/charuco_rig'\n",
    "charuco_freehand_folder = 'results/precalib/charuco_freehand'\n",
    "\n",
    "precalib_data = {}\n",
    "threshold = 1000\n",
    "\n",
    "precalib_data[\"dots_rig\"] = collate_results(dots_folder, threshold=threshold)\n",
    "precalib_data[\"charuco_rig\"] = collate_results(charuco_folder, threshold=threshold)\n",
    "precalib_data[\"charuco_freehand\"] = collate_results(charuco_freehand_folder, threshold=threshold)\n"
   ]
  },
  {
   "cell_type": "markdown",
   "metadata": {},
   "source": [
    "## Summary Statistics"
   ]
  },
  {
   "cell_type": "code",
   "execution_count": 9,
   "metadata": {},
   "outputs": [
    {
     "name": "stdout",
     "output_type": "stream",
     "text": [
      "Mean Values\n"
     ]
    },
    {
     "data": {
      "text/html": [
       "<div>\n",
       "<style scoped>\n",
       "    .dataframe tbody tr th:only-of-type {\n",
       "        vertical-align: middle;\n",
       "    }\n",
       "\n",
       "    .dataframe tbody tr th {\n",
       "        vertical-align: top;\n",
       "    }\n",
       "\n",
       "    .dataframe thead th {\n",
       "        text-align: right;\n",
       "    }\n",
       "</style>\n",
       "<table border=\"1\" class=\"dataframe\">\n",
       "  <thead>\n",
       "    <tr style=\"text-align: right;\">\n",
       "      <th></th>\n",
       "      <th>Reproj.</th>\n",
       "      <th>Recon.</th>\n",
       "      <th>Tracked Reproj.</th>\n",
       "      <th>Tracked Recon.</th>\n",
       "      <th>Mean Frame Grab Time</th>\n",
       "      <th>Mean Calibration Time</th>\n",
       "    </tr>\n",
       "  </thead>\n",
       "  <tbody>\n",
       "    <tr>\n",
       "      <th>charuco_rig</th>\n",
       "      <td>0.944777</td>\n",
       "      <td>1.363656</td>\n",
       "      <td>1.073905</td>\n",
       "      <td>1.365135</td>\n",
       "      <td>1.319827</td>\n",
       "      <td>14.926883</td>\n",
       "    </tr>\n",
       "    <tr>\n",
       "      <th>dots_rig</th>\n",
       "      <td>1.199550</td>\n",
       "      <td>0.925462</td>\n",
       "      <td>1.349359</td>\n",
       "      <td>0.933968</td>\n",
       "      <td>0.912419</td>\n",
       "      <td>10.119291</td>\n",
       "    </tr>\n",
       "    <tr>\n",
       "      <th>charuco_freehand</th>\n",
       "      <td>1.343829</td>\n",
       "      <td>2.232005</td>\n",
       "      <td>4.242161</td>\n",
       "      <td>3.367961</td>\n",
       "      <td>1.735755</td>\n",
       "      <td>22.619610</td>\n",
       "    </tr>\n",
       "  </tbody>\n",
       "</table>\n",
       "</div>"
      ],
      "text/plain": [
       "                   Reproj.    Recon.  Tracked Reproj.  Tracked Recon.  \\\n",
       "charuco_rig       0.944777  1.363656         1.073905        1.365135   \n",
       "dots_rig          1.199550  0.925462         1.349359        0.933968   \n",
       "charuco_freehand  1.343829  2.232005         4.242161        3.367961   \n",
       "\n",
       "                  Mean Frame Grab Time  Mean Calibration Time  \n",
       "charuco_rig                   1.319827              14.926883  \n",
       "dots_rig                      0.912419              10.119291  \n",
       "charuco_freehand              1.735755              22.619610  "
      ]
     },
     "execution_count": 9,
     "metadata": {},
     "output_type": "execute_result"
    },
    {
     "data": {
      "image/png": "[encoded data removed]",
      "text/plain": [
       "<Figure size 864x432 with 1 Axes>"
      ]
     },
     "metadata": {
      "needs_background": "light"
     },
     "output_type": "display_data"
    }
   ],
   "source": [
    "precalib_means, precalib_stds = summarise_datasets(precalib_data, [\"charuco_rig\", \"dots_rig\", \"charuco_freehand\"])\n",
    "\n",
    "columns_to_plot = [\"Reproj.\", \"Recon.\", \"Tracked Reproj.\", \"Tracked Recon.\"]\n",
    "\n",
    "labels = [\"Reproj.\", \"Recon.\", \"Tracked Reproj.\", \"Tracked Recon.\"]\n",
    "\n",
    "fig1 = plt.figure(figsize=(figsize))\n",
    "ax1 = fig1.add_subplot(1, 1, 1)\n",
    "\n",
    "precalib_means[columns_to_plot].transpose().plot.bar(title=\"Mean Errors, Precalibrated Data\",\n",
    "                                                     ax=ax1,\n",
    "                                                     yerr=precalib_stds.transpose(),\n",
    "                                                     ecolor='black',\n",
    "                                                     capsize=3,\n",
    "                                                     rot=0,\n",
    "                                                     legend=None,\n",
    "                                                     ylabel=\"Error in mm (Reproj.), pixels (Recon.)\",\n",
    "                                                    edgecolor=[\"black\"])\n",
    "ax1.set_ylim(0, 10)\n",
    "\n",
    "n_charuco_rig = len(precalib_data[\"charuco_rig\"])\n",
    "n_dots_rig = len(precalib_data[\"dots_rig\"])\n",
    "n_charuco_freehand = len(precalib_data[\"charuco_freehand\"])\n",
    "\n",
    "L = ax1.legend()\n",
    "legend = [f\"ChArUco Rig (n={n_charuco_rig})\", f\"Dots Rig (n={n_dots_rig})\", f\"ChArUco Freehand (n={n_charuco_freehand})\"]\n",
    "L.get_texts()[0].set_text(legend[0])\n",
    "L.get_texts()[1].set_text(legend[1])\n",
    "L.get_texts()[2].set_text(legend[2])\n",
    "\n",
    "\n",
    "plt.savefig('plots/_precalib_charuco_vs_dots_vs_freehand_mean.png', dpi=600)\n",
    "\n",
    "print(\"Mean Values\")\n",
    "means"
   ]
  },
  {
   "cell_type": "markdown",
   "metadata": {},
   "source": [
    "## Compare errors from the two analysis  methods"
   ]
  },
  {
   "cell_type": "code",
   "execution_count": 12,
   "metadata": {},
   "outputs": [
    {
     "ename": "ValueError",
     "evalue": "shape mismatch: objects cannot be broadcast to a single shape",
     "output_type": "error",
     "traceback": [
      "\u001b[1;31m---------------------------------------------------------------------------\u001b[0m",
      "\u001b[1;31mValueError\u001b[0m                                Traceback (most recent call last)",
      "\u001b[1;32m~\\AppData\\Local\\Temp/ipykernel_32352/213887299.py\u001b[0m in \u001b[0;36m<module>\u001b[1;34m\u001b[0m\n\u001b[0;32m     43\u001b[0m                                                         \u001b[0mylabel\u001b[0m\u001b[1;33m=\u001b[0m\u001b[1;34m\"Error in mm (Reproj.), pixels (Recon.)\"\u001b[0m\u001b[1;33m,\u001b[0m\u001b[1;33m\u001b[0m\u001b[1;33m\u001b[0m\u001b[0m\n\u001b[0;32m     44\u001b[0m                                                       \u001b[0medgecolor\u001b[0m\u001b[1;33m=\u001b[0m\u001b[1;33m[\u001b[0m\u001b[1;34m\"black\"\u001b[0m\u001b[1;33m]\u001b[0m\u001b[1;33m,\u001b[0m\u001b[1;33m\u001b[0m\u001b[1;33m\u001b[0m\u001b[0m\n\u001b[1;32m---> 45\u001b[1;33m                                           hatch=['x','/','x','/''x','/','x','/'])\n\u001b[0m\u001b[0;32m     46\u001b[0m \u001b[0max1\u001b[0m\u001b[1;33m.\u001b[0m\u001b[0mset_ylim\u001b[0m\u001b[1;33m(\u001b[0m\u001b[1;36m0\u001b[0m\u001b[1;33m,\u001b[0m \u001b[1;36m3\u001b[0m\u001b[1;33m)\u001b[0m\u001b[1;33m\u001b[0m\u001b[1;33m\u001b[0m\u001b[0m\n\u001b[0;32m     47\u001b[0m \u001b[1;33m\u001b[0m\u001b[0m\n",
      "\u001b[1;32mC:\\Code\\envs\\calib\\lib\\site-packages\\pandas\\plotting\\_core.py\u001b[0m in \u001b[0;36mbar\u001b[1;34m(self, x, y, **kwargs)\u001b[0m\n\u001b[0;32m   1128\u001b[0m         \u001b[0mother\u001b[0m \u001b[0maxis\u001b[0m \u001b[0mrepresents\u001b[0m \u001b[0ma\u001b[0m \u001b[0mmeasured\u001b[0m \u001b[0mvalue\u001b[0m\u001b[1;33m.\u001b[0m\u001b[1;33m\u001b[0m\u001b[1;33m\u001b[0m\u001b[0m\n\u001b[0;32m   1129\u001b[0m         \"\"\"\n\u001b[1;32m-> 1130\u001b[1;33m         \u001b[1;32mreturn\u001b[0m \u001b[0mself\u001b[0m\u001b[1;33m(\u001b[0m\u001b[0mkind\u001b[0m\u001b[1;33m=\u001b[0m\u001b[1;34m\"bar\"\u001b[0m\u001b[1;33m,\u001b[0m \u001b[0mx\u001b[0m\u001b[1;33m=\u001b[0m\u001b[0mx\u001b[0m\u001b[1;33m,\u001b[0m \u001b[0my\u001b[0m\u001b[1;33m=\u001b[0m\u001b[0my\u001b[0m\u001b[1;33m,\u001b[0m \u001b[1;33m**\u001b[0m\u001b[0mkwargs\u001b[0m\u001b[1;33m)\u001b[0m\u001b[1;33m\u001b[0m\u001b[1;33m\u001b[0m\u001b[0m\n\u001b[0m\u001b[0;32m   1131\u001b[0m \u001b[1;33m\u001b[0m\u001b[0m\n\u001b[0;32m   1132\u001b[0m     @Appender(\n",
      "\u001b[1;32mC:\\Code\\envs\\calib\\lib\\site-packages\\pandas\\plotting\\_core.py\u001b[0m in \u001b[0;36m__call__\u001b[1;34m(self, *args, **kwargs)\u001b[0m\n\u001b[0;32m    970\u001b[0m                     \u001b[0mdata\u001b[0m\u001b[1;33m.\u001b[0m\u001b[0mcolumns\u001b[0m \u001b[1;33m=\u001b[0m \u001b[0mlabel_name\u001b[0m\u001b[1;33m\u001b[0m\u001b[1;33m\u001b[0m\u001b[0m\n\u001b[0;32m    971\u001b[0m \u001b[1;33m\u001b[0m\u001b[0m\n\u001b[1;32m--> 972\u001b[1;33m         \u001b[1;32mreturn\u001b[0m \u001b[0mplot_backend\u001b[0m\u001b[1;33m.\u001b[0m\u001b[0mplot\u001b[0m\u001b[1;33m(\u001b[0m\u001b[0mdata\u001b[0m\u001b[1;33m,\u001b[0m \u001b[0mkind\u001b[0m\u001b[1;33m=\u001b[0m\u001b[0mkind\u001b[0m\u001b[1;33m,\u001b[0m \u001b[1;33m**\u001b[0m\u001b[0mkwargs\u001b[0m\u001b[1;33m)\u001b[0m\u001b[1;33m\u001b[0m\u001b[1;33m\u001b[0m\u001b[0m\n\u001b[0m\u001b[0;32m    973\u001b[0m \u001b[1;33m\u001b[0m\u001b[0m\n\u001b[0;32m    974\u001b[0m     \u001b[0m__call__\u001b[0m\u001b[1;33m.\u001b[0m\u001b[0m__doc__\u001b[0m \u001b[1;33m=\u001b[0m \u001b[0m__doc__\u001b[0m\u001b[1;33m\u001b[0m\u001b[1;33m\u001b[0m\u001b[0m\n",
      "\u001b[1;32mC:\\Code\\envs\\calib\\lib\\site-packages\\pandas\\plotting\\_matplotlib\\__init__.py\u001b[0m in \u001b[0;36mplot\u001b[1;34m(data, kind, **kwargs)\u001b[0m\n\u001b[0;32m     69\u001b[0m             \u001b[0mkwargs\u001b[0m\u001b[1;33m[\u001b[0m\u001b[1;34m\"ax\"\u001b[0m\u001b[1;33m]\u001b[0m \u001b[1;33m=\u001b[0m \u001b[0mgetattr\u001b[0m\u001b[1;33m(\u001b[0m\u001b[0max\u001b[0m\u001b[1;33m,\u001b[0m \u001b[1;34m\"left_ax\"\u001b[0m\u001b[1;33m,\u001b[0m \u001b[0max\u001b[0m\u001b[1;33m)\u001b[0m\u001b[1;33m\u001b[0m\u001b[1;33m\u001b[0m\u001b[0m\n\u001b[0;32m     70\u001b[0m     \u001b[0mplot_obj\u001b[0m \u001b[1;33m=\u001b[0m \u001b[0mPLOT_CLASSES\u001b[0m\u001b[1;33m[\u001b[0m\u001b[0mkind\u001b[0m\u001b[1;33m]\u001b[0m\u001b[1;33m(\u001b[0m\u001b[0mdata\u001b[0m\u001b[1;33m,\u001b[0m \u001b[1;33m**\u001b[0m\u001b[0mkwargs\u001b[0m\u001b[1;33m)\u001b[0m\u001b[1;33m\u001b[0m\u001b[1;33m\u001b[0m\u001b[0m\n\u001b[1;32m---> 71\u001b[1;33m     \u001b[0mplot_obj\u001b[0m\u001b[1;33m.\u001b[0m\u001b[0mgenerate\u001b[0m\u001b[1;33m(\u001b[0m\u001b[1;33m)\u001b[0m\u001b[1;33m\u001b[0m\u001b[1;33m\u001b[0m\u001b[0m\n\u001b[0m\u001b[0;32m     72\u001b[0m     \u001b[0mplot_obj\u001b[0m\u001b[1;33m.\u001b[0m\u001b[0mdraw\u001b[0m\u001b[1;33m(\u001b[0m\u001b[1;33m)\u001b[0m\u001b[1;33m\u001b[0m\u001b[1;33m\u001b[0m\u001b[0m\n\u001b[0;32m     73\u001b[0m     \u001b[1;32mreturn\u001b[0m \u001b[0mplot_obj\u001b[0m\u001b[1;33m.\u001b[0m\u001b[0mresult\u001b[0m\u001b[1;33m\u001b[0m\u001b[1;33m\u001b[0m\u001b[0m\n",
      "\u001b[1;32mC:\\Code\\envs\\calib\\lib\\site-packages\\pandas\\plotting\\_matplotlib\\core.py\u001b[0m in \u001b[0;36mgenerate\u001b[1;34m(self)\u001b[0m\n\u001b[0;32m    286\u001b[0m         \u001b[0mself\u001b[0m\u001b[1;33m.\u001b[0m\u001b[0m_compute_plot_data\u001b[0m\u001b[1;33m(\u001b[0m\u001b[1;33m)\u001b[0m\u001b[1;33m\u001b[0m\u001b[1;33m\u001b[0m\u001b[0m\n\u001b[0;32m    287\u001b[0m         \u001b[0mself\u001b[0m\u001b[1;33m.\u001b[0m\u001b[0m_setup_subplots\u001b[0m\u001b[1;33m(\u001b[0m\u001b[1;33m)\u001b[0m\u001b[1;33m\u001b[0m\u001b[1;33m\u001b[0m\u001b[0m\n\u001b[1;32m--> 288\u001b[1;33m         \u001b[0mself\u001b[0m\u001b[1;33m.\u001b[0m\u001b[0m_make_plot\u001b[0m\u001b[1;33m(\u001b[0m\u001b[1;33m)\u001b[0m\u001b[1;33m\u001b[0m\u001b[1;33m\u001b[0m\u001b[0m\n\u001b[0m\u001b[0;32m    289\u001b[0m         \u001b[0mself\u001b[0m\u001b[1;33m.\u001b[0m\u001b[0m_add_table\u001b[0m\u001b[1;33m(\u001b[0m\u001b[1;33m)\u001b[0m\u001b[1;33m\u001b[0m\u001b[1;33m\u001b[0m\u001b[0m\n\u001b[0;32m    290\u001b[0m         \u001b[0mself\u001b[0m\u001b[1;33m.\u001b[0m\u001b[0m_make_legend\u001b[0m\u001b[1;33m(\u001b[0m\u001b[1;33m)\u001b[0m\u001b[1;33m\u001b[0m\u001b[1;33m\u001b[0m\u001b[0m\n",
      "\u001b[1;32mC:\\Code\\envs\\calib\\lib\\site-packages\\pandas\\plotting\\_matplotlib\\core.py\u001b[0m in \u001b[0;36m_make_plot\u001b[1;34m(self)\u001b[0m\n\u001b[0;32m   1515\u001b[0m                     \u001b[0mlabel\u001b[0m\u001b[1;33m=\u001b[0m\u001b[0mlabel\u001b[0m\u001b[1;33m,\u001b[0m\u001b[1;33m\u001b[0m\u001b[1;33m\u001b[0m\u001b[0m\n\u001b[0;32m   1516\u001b[0m                     \u001b[0mlog\u001b[0m\u001b[1;33m=\u001b[0m\u001b[0mself\u001b[0m\u001b[1;33m.\u001b[0m\u001b[0mlog\u001b[0m\u001b[1;33m,\u001b[0m\u001b[1;33m\u001b[0m\u001b[1;33m\u001b[0m\u001b[0m\n\u001b[1;32m-> 1517\u001b[1;33m                     \u001b[1;33m**\u001b[0m\u001b[0mkwds\u001b[0m\u001b[1;33m,\u001b[0m\u001b[1;33m\u001b[0m\u001b[1;33m\u001b[0m\u001b[0m\n\u001b[0m\u001b[0;32m   1518\u001b[0m                 )\n\u001b[0;32m   1519\u001b[0m             \u001b[0mself\u001b[0m\u001b[1;33m.\u001b[0m\u001b[0m_append_legend_handles_labels\u001b[0m\u001b[1;33m(\u001b[0m\u001b[0mrect\u001b[0m\u001b[1;33m,\u001b[0m \u001b[0mlabel\u001b[0m\u001b[1;33m)\u001b[0m\u001b[1;33m\u001b[0m\u001b[1;33m\u001b[0m\u001b[0m\n",
      "\u001b[1;32mC:\\Code\\envs\\calib\\lib\\site-packages\\pandas\\plotting\\_matplotlib\\core.py\u001b[0m in \u001b[0;36m_plot\u001b[1;34m(cls, ax, x, y, w, start, log, **kwds)\u001b[0m\n\u001b[0;32m   1437\u001b[0m     \u001b[1;33m@\u001b[0m\u001b[0mclassmethod\u001b[0m\u001b[1;33m\u001b[0m\u001b[1;33m\u001b[0m\u001b[0m\n\u001b[0;32m   1438\u001b[0m     \u001b[1;32mdef\u001b[0m \u001b[0m_plot\u001b[0m\u001b[1;33m(\u001b[0m\u001b[0mcls\u001b[0m\u001b[1;33m,\u001b[0m \u001b[0max\u001b[0m\u001b[1;33m:\u001b[0m \u001b[0mAxes\u001b[0m\u001b[1;33m,\u001b[0m \u001b[0mx\u001b[0m\u001b[1;33m,\u001b[0m \u001b[0my\u001b[0m\u001b[1;33m,\u001b[0m \u001b[0mw\u001b[0m\u001b[1;33m,\u001b[0m \u001b[0mstart\u001b[0m\u001b[1;33m=\u001b[0m\u001b[1;36m0\u001b[0m\u001b[1;33m,\u001b[0m \u001b[0mlog\u001b[0m\u001b[1;33m=\u001b[0m\u001b[1;32mFalse\u001b[0m\u001b[1;33m,\u001b[0m \u001b[1;33m**\u001b[0m\u001b[0mkwds\u001b[0m\u001b[1;33m)\u001b[0m\u001b[1;33m:\u001b[0m\u001b[1;33m\u001b[0m\u001b[1;33m\u001b[0m\u001b[0m\n\u001b[1;32m-> 1439\u001b[1;33m         \u001b[1;32mreturn\u001b[0m \u001b[0max\u001b[0m\u001b[1;33m.\u001b[0m\u001b[0mbar\u001b[0m\u001b[1;33m(\u001b[0m\u001b[0mx\u001b[0m\u001b[1;33m,\u001b[0m \u001b[0my\u001b[0m\u001b[1;33m,\u001b[0m \u001b[0mw\u001b[0m\u001b[1;33m,\u001b[0m \u001b[0mbottom\u001b[0m\u001b[1;33m=\u001b[0m\u001b[0mstart\u001b[0m\u001b[1;33m,\u001b[0m \u001b[0mlog\u001b[0m\u001b[1;33m=\u001b[0m\u001b[0mlog\u001b[0m\u001b[1;33m,\u001b[0m \u001b[1;33m**\u001b[0m\u001b[0mkwds\u001b[0m\u001b[1;33m)\u001b[0m\u001b[1;33m\u001b[0m\u001b[1;33m\u001b[0m\u001b[0m\n\u001b[0m\u001b[0;32m   1440\u001b[0m \u001b[1;33m\u001b[0m\u001b[0m\n\u001b[0;32m   1441\u001b[0m     \u001b[1;33m@\u001b[0m\u001b[0mproperty\u001b[0m\u001b[1;33m\u001b[0m\u001b[1;33m\u001b[0m\u001b[0m\n",
      "\u001b[1;32mC:\\Code\\envs\\calib\\lib\\site-packages\\matplotlib\\__init__.py\u001b[0m in \u001b[0;36minner\u001b[1;34m(ax, data, *args, **kwargs)\u001b[0m\n\u001b[0;32m   1359\u001b[0m     \u001b[1;32mdef\u001b[0m \u001b[0minner\u001b[0m\u001b[1;33m(\u001b[0m\u001b[0max\u001b[0m\u001b[1;33m,\u001b[0m \u001b[1;33m*\u001b[0m\u001b[0margs\u001b[0m\u001b[1;33m,\u001b[0m \u001b[0mdata\u001b[0m\u001b[1;33m=\u001b[0m\u001b[1;32mNone\u001b[0m\u001b[1;33m,\u001b[0m \u001b[1;33m**\u001b[0m\u001b[0mkwargs\u001b[0m\u001b[1;33m)\u001b[0m\u001b[1;33m:\u001b[0m\u001b[1;33m\u001b[0m\u001b[1;33m\u001b[0m\u001b[0m\n\u001b[0;32m   1360\u001b[0m         \u001b[1;32mif\u001b[0m \u001b[0mdata\u001b[0m \u001b[1;32mis\u001b[0m \u001b[1;32mNone\u001b[0m\u001b[1;33m:\u001b[0m\u001b[1;33m\u001b[0m\u001b[1;33m\u001b[0m\u001b[0m\n\u001b[1;32m-> 1361\u001b[1;33m             \u001b[1;32mreturn\u001b[0m \u001b[0mfunc\u001b[0m\u001b[1;33m(\u001b[0m\u001b[0max\u001b[0m\u001b[1;33m,\u001b[0m \u001b[1;33m*\u001b[0m\u001b[0mmap\u001b[0m\u001b[1;33m(\u001b[0m\u001b[0msanitize_sequence\u001b[0m\u001b[1;33m,\u001b[0m \u001b[0margs\u001b[0m\u001b[1;33m)\u001b[0m\u001b[1;33m,\u001b[0m \u001b[1;33m**\u001b[0m\u001b[0mkwargs\u001b[0m\u001b[1;33m)\u001b[0m\u001b[1;33m\u001b[0m\u001b[1;33m\u001b[0m\u001b[0m\n\u001b[0m\u001b[0;32m   1362\u001b[0m \u001b[1;33m\u001b[0m\u001b[0m\n\u001b[0;32m   1363\u001b[0m         \u001b[0mbound\u001b[0m \u001b[1;33m=\u001b[0m \u001b[0mnew_sig\u001b[0m\u001b[1;33m.\u001b[0m\u001b[0mbind\u001b[0m\u001b[1;33m(\u001b[0m\u001b[0max\u001b[0m\u001b[1;33m,\u001b[0m \u001b[1;33m*\u001b[0m\u001b[0margs\u001b[0m\u001b[1;33m,\u001b[0m \u001b[1;33m**\u001b[0m\u001b[0mkwargs\u001b[0m\u001b[1;33m)\u001b[0m\u001b[1;33m\u001b[0m\u001b[1;33m\u001b[0m\u001b[0m\n",
      "\u001b[1;32mC:\\Code\\envs\\calib\\lib\\site-packages\\matplotlib\\axes\\_axes.py\u001b[0m in \u001b[0;36mbar\u001b[1;34m(self, x, height, width, bottom, align, **kwargs)\u001b[0m\n\u001b[0;32m   2304\u001b[0m         x, height, width, y, linewidth, hatch = np.broadcast_arrays(\n\u001b[0;32m   2305\u001b[0m             \u001b[1;31m# Make args iterable too.\u001b[0m\u001b[1;33m\u001b[0m\u001b[1;33m\u001b[0m\u001b[1;33m\u001b[0m\u001b[0m\n\u001b[1;32m-> 2306\u001b[1;33m             np.atleast_1d(x), height, width, y, linewidth, hatch)\n\u001b[0m\u001b[0;32m   2307\u001b[0m \u001b[1;33m\u001b[0m\u001b[0m\n\u001b[0;32m   2308\u001b[0m         \u001b[1;31m# Now that units have been converted, set the tick locations.\u001b[0m\u001b[1;33m\u001b[0m\u001b[1;33m\u001b[0m\u001b[1;33m\u001b[0m\u001b[0m\n",
      "\u001b[1;32m<__array_function__ internals>\u001b[0m in \u001b[0;36mbroadcast_arrays\u001b[1;34m(*args, **kwargs)\u001b[0m\n",
      "\u001b[1;32mC:\\Code\\envs\\calib\\lib\\site-packages\\numpy\\lib\\stride_tricks.py\u001b[0m in \u001b[0;36mbroadcast_arrays\u001b[1;34m(*args, **kwargs)\u001b[0m\n\u001b[0;32m    262\u001b[0m     \u001b[0margs\u001b[0m \u001b[1;33m=\u001b[0m \u001b[1;33m[\u001b[0m\u001b[0mnp\u001b[0m\u001b[1;33m.\u001b[0m\u001b[0marray\u001b[0m\u001b[1;33m(\u001b[0m\u001b[0m_m\u001b[0m\u001b[1;33m,\u001b[0m \u001b[0mcopy\u001b[0m\u001b[1;33m=\u001b[0m\u001b[1;32mFalse\u001b[0m\u001b[1;33m,\u001b[0m \u001b[0msubok\u001b[0m\u001b[1;33m=\u001b[0m\u001b[0msubok\u001b[0m\u001b[1;33m)\u001b[0m \u001b[1;32mfor\u001b[0m \u001b[0m_m\u001b[0m \u001b[1;32min\u001b[0m \u001b[0margs\u001b[0m\u001b[1;33m]\u001b[0m\u001b[1;33m\u001b[0m\u001b[1;33m\u001b[0m\u001b[0m\n\u001b[0;32m    263\u001b[0m \u001b[1;33m\u001b[0m\u001b[0m\n\u001b[1;32m--> 264\u001b[1;33m     \u001b[0mshape\u001b[0m \u001b[1;33m=\u001b[0m \u001b[0m_broadcast_shape\u001b[0m\u001b[1;33m(\u001b[0m\u001b[1;33m*\u001b[0m\u001b[0margs\u001b[0m\u001b[1;33m)\u001b[0m\u001b[1;33m\u001b[0m\u001b[1;33m\u001b[0m\u001b[0m\n\u001b[0m\u001b[0;32m    265\u001b[0m \u001b[1;33m\u001b[0m\u001b[0m\n\u001b[0;32m    266\u001b[0m     \u001b[1;32mif\u001b[0m \u001b[0mall\u001b[0m\u001b[1;33m(\u001b[0m\u001b[0marray\u001b[0m\u001b[1;33m.\u001b[0m\u001b[0mshape\u001b[0m \u001b[1;33m==\u001b[0m \u001b[0mshape\u001b[0m \u001b[1;32mfor\u001b[0m \u001b[0marray\u001b[0m \u001b[1;32min\u001b[0m \u001b[0margs\u001b[0m\u001b[1;33m)\u001b[0m\u001b[1;33m:\u001b[0m\u001b[1;33m\u001b[0m\u001b[1;33m\u001b[0m\u001b[0m\n",
      "\u001b[1;32mC:\\Code\\envs\\calib\\lib\\site-packages\\numpy\\lib\\stride_tricks.py\u001b[0m in \u001b[0;36m_broadcast_shape\u001b[1;34m(*args)\u001b[0m\n\u001b[0;32m    189\u001b[0m     \u001b[1;31m# use the old-iterator because np.nditer does not handle size 0 arrays\u001b[0m\u001b[1;33m\u001b[0m\u001b[1;33m\u001b[0m\u001b[1;33m\u001b[0m\u001b[0m\n\u001b[0;32m    190\u001b[0m     \u001b[1;31m# consistently\u001b[0m\u001b[1;33m\u001b[0m\u001b[1;33m\u001b[0m\u001b[1;33m\u001b[0m\u001b[0m\n\u001b[1;32m--> 191\u001b[1;33m     \u001b[0mb\u001b[0m \u001b[1;33m=\u001b[0m \u001b[0mnp\u001b[0m\u001b[1;33m.\u001b[0m\u001b[0mbroadcast\u001b[0m\u001b[1;33m(\u001b[0m\u001b[1;33m*\u001b[0m\u001b[0margs\u001b[0m\u001b[1;33m[\u001b[0m\u001b[1;33m:\u001b[0m\u001b[1;36m32\u001b[0m\u001b[1;33m]\u001b[0m\u001b[1;33m)\u001b[0m\u001b[1;33m\u001b[0m\u001b[1;33m\u001b[0m\u001b[0m\n\u001b[0m\u001b[0;32m    192\u001b[0m     \u001b[1;31m# unfortunately, it cannot handle 32 or more arguments directly\u001b[0m\u001b[1;33m\u001b[0m\u001b[1;33m\u001b[0m\u001b[1;33m\u001b[0m\u001b[0m\n\u001b[0;32m    193\u001b[0m     \u001b[1;32mfor\u001b[0m \u001b[0mpos\u001b[0m \u001b[1;32min\u001b[0m \u001b[0mrange\u001b[0m\u001b[1;33m(\u001b[0m\u001b[1;36m32\u001b[0m\u001b[1;33m,\u001b[0m \u001b[0mlen\u001b[0m\u001b[1;33m(\u001b[0m\u001b[0margs\u001b[0m\u001b[1;33m)\u001b[0m\u001b[1;33m,\u001b[0m \u001b[1;36m31\u001b[0m\u001b[1;33m)\u001b[0m\u001b[1;33m:\u001b[0m\u001b[1;33m\u001b[0m\u001b[1;33m\u001b[0m\u001b[0m\n",
      "\u001b[1;31mValueError\u001b[0m: shape mismatch: objects cannot be broadcast to a single shape"
     ]
    },
    {
     "data": {
      "image/png": "[encoded data removed]",
      "text/plain": [
       "<Figure size 864x432 with 1 Axes>"
      ]
     },
     "metadata": {
      "needs_background": "light"
     },
     "output_type": "display_data"
    },
    {
     "data": {
      "image/png": "[encoded data removed]",
      "text/plain": [
       "<Figure size 864x432 with 1 Axes>"
      ]
     },
     "metadata": {
      "needs_background": "light"
     },
     "output_type": "display_data"
    }
   ],
   "source": [
    "columns_to_plot = [\"Reproj.\", \"Recon.\", \"Tracked Reproj.\", \"Tracked Recon.\"]\n",
    "labels = [\"Reproj.\", \"Recon.\", \"Tracked Reproj.\", \"Tracked Recon.\"]\n",
    "\n",
    "charuco = pd.DataFrame()\n",
    "dots = pd.DataFrame()\n",
    "\n",
    "# Move the data into a format that can be plotted as desired\n",
    "charuco[\"With_precalib\"] = precalib_means.transpose()[\"charuco_rig\"]\n",
    "charuco[\"Without_precalib\"] = means.transpose()[\"charuco_rig\"]\n",
    "dots[\"With_precalib\"] = precalib_means.transpose()[\"dots_rig\"]\n",
    "dots[\"Without_precalib\"] = means.transpose()[\"dots_rig\"]\n",
    "\n",
    "charuco = charuco.transpose()\n",
    "dots = dots.transpose()\n",
    "\n",
    "# Plot Charuco\n",
    "fig1 = plt.figure(figsize=(figsize))\n",
    "ax1 = fig1.add_subplot(1, 1, 1)\n",
    "\n",
    "charuco[columns_to_plot].transpose().plot.bar(title=\"ChArUco Mean Errors with/without precalibration\",\n",
    "                                                        ax=ax1,\n",
    "                                                        legend=None,\n",
    "                                                        ylabel=\"Error in mm (Reproj.), pixels (Recon.)\",\n",
    "                                                        rot=0,\n",
    "                                                         edgecolor=[\"black\"])\n",
    "ax1.set_ylim(0, 3)\n",
    "\n",
    "L = ax1.legend(prop={'size': 20})\n",
    "legend = [f\"With PC\", f\"Without\"]\n",
    "L.get_texts()[0].set_text(legend[0])\n",
    "L.get_texts()[1].set_text(legend[1])\n",
    "\n",
    "plt.savefig('plots/charuco_precalib_vs_no_precalib.png', dpi=600)\n",
    "\n",
    "# Plot dots\n",
    "fig1 = plt.figure(figsize=(figsize))\n",
    "ax1 = fig1.add_subplot(1, 1, 1)\n",
    "\n",
    "dots[columns_to_plot].transpose().plot.bar(title=\"Dots Mean Errors with/without precalibration\",\n",
    "                                                        ax=ax1,\n",
    "                                                        legend=None,\n",
    "                                                       rot=0,\n",
    "                                                        ylabel=\"Error in mm (Reproj.), pixels (Recon.)\",\n",
    "                                                      edgecolor=[\"black\"],\n",
    "                                          hatch=['x','/'])\n",
    "ax1.set_ylim(0, 3)\n",
    "\n",
    "L = ax1.legend(prop={'size': 20})\n",
    "legend = [f\"With PC\", f\"Without\"]\n",
    "L.get_texts()[0].set_text(legend[0])\n",
    "L.get_texts()[1].set_text(legend[1])\n",
    "\n",
    "plt.savefig('plots/Dots_precalib_vs_no_precalib.png', dpi=600)"
   ]
  },
  {
   "cell_type": "code",
   "execution_count": null,
   "metadata": {},
   "outputs": [],
   "source": []
  }
 ],
 "metadata": {
  "kernelspec": {
   "display_name": "Python 3 (ipykernel)",
   "language": "python",
   "name": "python3"
  },
  "language_info": {
   "codemirror_mode": {
    "name": "ipython",
    "version": 3
   },
   "file_extension": ".py",
   "mimetype": "text/x-python",
   "name": "python",
   "nbconvert_exporter": "python",
   "pygments_lexer": "ipython3",
   "version": "3.7.9"
  }
 },
 "nbformat": 4,
 "nbformat_minor": 4
}
