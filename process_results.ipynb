{
 "cells": [
  {
   "cell_type": "code",
   "execution_count": 39,
   "metadata": {},
   "outputs": [],
   "source": [
    "import os\n",
    "import pandas as pd\n",
    "import numpy as np\n",
    "import matplotlib.pyplot as plt\n",
    "from data_analysis_utils import summarise_datasets, do_ttest, collate_results\n",
    "\n",
    "figsize = (12, 6)"
   ]
  },
  {
   "cell_type": "markdown",
   "metadata": {},
   "source": [
    "# Load in calibration results from .csv files"
   ]
  },
  {
   "cell_type": "code",
   "execution_count": 40,
   "metadata": {},
   "outputs": [],
   "source": [
    "calib_data = {}\n",
    "\n",
    "path = './results'\n",
    "csv_files = [f for f in os.listdir(path) if f.endswith('.csv')]\n",
    "\n",
    "for csv in csv_files:\n",
    "    file = os.path.join(path, csv)\n",
    "    data_name = csv.split('.')[0]\n",
    "    calib_data[data_name] = pd.read_csv(file, index_col = 0)"
   ]
  },
  {
   "cell_type": "markdown",
   "metadata": {},
   "source": [
    "# Calibration and evaluation on same datasets"
   ]
  },
  {
   "cell_type": "markdown",
   "metadata": {},
   "source": [
    "## Summary statistics"
   ]
  },
  {
   "cell_type": "code",
   "execution_count": 41,
   "metadata": {},
   "outputs": [
    {
     "data": {
      "text/html": [
       "<div>\n",
       "<style scoped>\n",
       "    .dataframe tbody tr th:only-of-type {\n",
       "        vertical-align: middle;\n",
       "    }\n",
       "\n",
       "    .dataframe tbody tr th {\n",
       "        vertical-align: top;\n",
       "    }\n",
       "\n",
       "    .dataframe thead th {\n",
       "        text-align: right;\n",
       "    }\n",
       "</style>\n",
       "<table border=\"1\" class=\"dataframe\">\n",
       "  <thead>\n",
       "    <tr style=\"text-align: right;\">\n",
       "      <th></th>\n",
       "      <th>Reproj.</th>\n",
       "      <th>Recon.</th>\n",
       "      <th>Tracked Reproj.</th>\n",
       "      <th>Tracked Recon.</th>\n",
       "      <th>Mean Frame Grab Time</th>\n",
       "      <th>Mean Calibration Time</th>\n",
       "    </tr>\n",
       "  </thead>\n",
       "  <tbody>\n",
       "    <tr>\n",
       "      <th>charuco_rig</th>\n",
       "      <td>0.944777</td>\n",
       "      <td>1.363656</td>\n",
       "      <td>1.073905</td>\n",
       "      <td>1.365135</td>\n",
       "      <td>1.309425</td>\n",
       "      <td>15.517809</td>\n",
       "    </tr>\n",
       "    <tr>\n",
       "      <th>dots_rig</th>\n",
       "      <td>1.204787</td>\n",
       "      <td>0.921150</td>\n",
       "      <td>1.353985</td>\n",
       "      <td>0.928704</td>\n",
       "      <td>0.942623</td>\n",
       "      <td>9.795939</td>\n",
       "    </tr>\n",
       "    <tr>\n",
       "      <th>charuco_freehand</th>\n",
       "      <td>1.450244</td>\n",
       "      <td>1.893063</td>\n",
       "      <td>3.654756</td>\n",
       "      <td>3.055658</td>\n",
       "      <td>1.322061</td>\n",
       "      <td>30.057087</td>\n",
       "    </tr>\n",
       "    <tr>\n",
       "      <th>dots_freehand</th>\n",
       "      <td>1.835267</td>\n",
       "      <td>2.779876</td>\n",
       "      <td>3.173015</td>\n",
       "      <td>2.857304</td>\n",
       "      <td>1.033029</td>\n",
       "      <td>30.133889</td>\n",
       "    </tr>\n",
       "  </tbody>\n",
       "</table>\n",
       "</div>"
      ],
      "text/plain": [
       "                   Reproj.    Recon.  Tracked Reproj.  Tracked Recon.  \\\n",
       "charuco_rig       0.944777  1.363656         1.073905        1.365135   \n",
       "dots_rig          1.204787  0.921150         1.353985        0.928704   \n",
       "charuco_freehand  1.450244  1.893063         3.654756        3.055658   \n",
       "dots_freehand     1.835267  2.779876         3.173015        2.857304   \n",
       "\n",
       "                  Mean Frame Grab Time  Mean Calibration Time  \n",
       "charuco_rig                   1.309425              15.517809  \n",
       "dots_rig                      0.942623               9.795939  \n",
       "charuco_freehand              1.322061              30.057087  \n",
       "dots_freehand                 1.033029              30.133889  "
      ]
     },
     "execution_count": 41,
     "metadata": {},
     "output_type": "execute_result"
    },
    {
     "data": {
      "image/png": "[encoded data removed]",
      "text/plain": [
       "<Figure size 864x432 with 1 Axes>"
      ]
     },
     "metadata": {
      "needs_background": "light"
     },
     "output_type": "display_data"
    }
   ],
   "source": [
    "means, stds = summarise_datasets(calib_data, [\"charuco_rig\", \"dots_rig\", \"charuco_freehand\", \"dots_freehand\"])\n",
    "columns_to_plot = [\"Reproj.\", \"Recon.\", \"Tracked Reproj.\", \"Tracked Recon.\"]\n",
    "\n",
    "labels = [\"Reproj.\", \"Recon.\", \"Tracked Reproj.\", \"Tracked Recon.\"]\n",
    "\n",
    "fig1 = plt.figure(figsize=(figsize))\n",
    "ax1 = fig1.add_subplot(1, 1, 1)\n",
    "\n",
    "means[columns_to_plot].transpose().plot.bar(title=\"Mean Errors, Traditional Analysis\",\n",
    "                                            ax=ax1,\n",
    "                                            yerr=stds.transpose(),\n",
    "                                            ecolor='black',\n",
    "                                            capsize=3,\n",
    "                                            rot=0,\n",
    "                                            legend=None,\n",
    "                                            ylabel=\"Error in mm (Reproj.), pixels (Recon.)\",\n",
    "                                           edgecolor=[\"black\"])\n",
    "ax1.set_ylim(0, 10)\n",
    "\n",
    "n_charuco_rig = len(calib_data[\"charuco_rig\"])\n",
    "n_dots_rig = len(calib_data[\"dots_rig\"])\n",
    "n_charuco_freehand = len(calib_data[\"charuco_freehand\"])\n",
    "n_dots_freehand = len(calib_data[\"dots_freehand\"])\n",
    "\n",
    "L = ax1.legend(prop={'size': 16})\n",
    "legend = [f\"ChArUco Rig (n={n_charuco_rig})\", f\"Dots Rig (n={n_dots_rig})\", f\"ChArUco Freehand (n={n_charuco_freehand})\", f\"Dots Freehand (n={n_dots_freehand})\"]\n",
    "L.get_texts()[0].set_text(legend[0])\n",
    "L.get_texts()[1].set_text(legend[1])\n",
    "L.get_texts()[2].set_text(legend[2])\n",
    "L.get_texts()[3].set_text(legend[3])\n",
    "\n",
    "plt.savefig('plots/charuco_vs_dots_vs_freehand_mean.png', dpi=600)\n",
    "\n",
    "means"
   ]
  },
  {
   "cell_type": "markdown",
   "metadata": {},
   "source": [
    "## Freehand vs Rig ttest"
   ]
  },
  {
   "cell_type": "code",
   "execution_count": 60,
   "metadata": {},
   "outputs": [
    {
     "name": "stdout",
     "output_type": "stream",
     "text": [
      "Reprojection p-value: 0.3699948550565948\n",
      "Reconstruction p-value: 0.22789576879181278\n",
      "Tracked Reprojection p-value: 0.109252069018247\n",
      "Tracked Reconstruction p-value: 0.19389779304394966\n"
     ]
    }
   ],
   "source": [
    "t_test_vals = do_ttest(calib_data, \"dots_freehand\", \"dots_rig\")"
   ]
  },
  {
   "cell_type": "markdown",
   "metadata": {},
   "source": [
    "## Charuco vs Dots ttest"
   ]
  },
  {
   "cell_type": "code",
   "execution_count": 58,
   "metadata": {},
   "outputs": [
    {
     "name": "stdout",
     "output_type": "stream",
     "text": [
      "Reprojection p-value: 9.27435542486081e-09\n",
      "Reconstruction p-value: 2.3345561731264645e-15\n",
      "Tracked Reprojection p-value: 1.676298816770034e-05\n",
      "Tracked Reconstruction p-value: 4.615780069561303e-15\n"
     ]
    }
   ],
   "source": [
    "t_test_vals = do_ttest(calib_data, \"charuco_rig\", \"dots_rig\")"
   ]
  },
  {
   "cell_type": "markdown",
   "metadata": {},
   "source": [
    "# Calibrate on one data set, evaluate on the remaining ones\n",
    "'Standard' approaches to calibration involve calbirating and evaluating on the same datasets, which will return favourable results, when compared to evaluating on a different set of data.\n",
    "\n",
    "Instead iterate through all datasets and use 1 for calibration, and then evaluate on the rest.\n",
    "\n",
    "This will results in n sets of results, where n is the total number of calibration data sets collected."
   ]
  },
  {
   "cell_type": "code",
   "execution_count": 44,
   "metadata": {},
   "outputs": [
    {
     "name": "stdout",
     "output_type": "stream",
     "text": [
      "Processing results/precalib/dots_rig\n",
      "Processing results/precalib/charuco_rig\n",
      "Processing results/precalib/charuco_freehand\n",
      "Processing results/precalib/dots_freehand\n"
     ]
    }
   ],
   "source": [
    "dots_folder = 'results/precalib/dots_rig'\n",
    "charuco_folder = 'results/precalib/charuco_rig'\n",
    "charuco_freehand_folder = 'results/precalib/charuco_freehand'\n",
    "dots_freehand_folder = 'results/precalib/dots_freehand'\n",
    "\n",
    "precalib_data = {}\n",
    "threshold = 1000\n",
    "\n",
    "precalib_data[\"dots_rig\"] = collate_results(dots_folder, threshold=threshold)\n",
    "precalib_data[\"charuco_rig\"] = collate_results(charuco_folder, threshold=threshold)\n",
    "precalib_data[\"charuco_freehand\"] = collate_results(charuco_freehand_folder, threshold=threshold)\n",
    "precalib_data[\"dots_freehand\"] = collate_results(dots_freehand_folder, threshold=threshold)\n",
    "\n"
   ]
  },
  {
   "cell_type": "markdown",
   "metadata": {},
   "source": [
    "## Summary Statistics"
   ]
  },
  {
   "cell_type": "code",
   "execution_count": 84,
   "metadata": {},
   "outputs": [
    {
     "ename": "ValueError",
     "evalue": "The lengths of the data (4) and the error 16 do not match",
     "output_type": "error",
     "traceback": [
      "\u001b[1;31m---------------------------------------------------------------------------\u001b[0m",
      "\u001b[1;31mValueError\u001b[0m                                Traceback (most recent call last)",
      "\u001b[1;32m~\\AppData\\Local\\Temp/ipykernel_16584/354607729.py\u001b[0m in \u001b[0;36m<module>\u001b[1;34m\u001b[0m\n\u001b[0;32m     16\u001b[0m                                                      \u001b[0mlegend\u001b[0m\u001b[1;33m=\u001b[0m\u001b[1;32mNone\u001b[0m\u001b[1;33m,\u001b[0m\u001b[1;33m\u001b[0m\u001b[1;33m\u001b[0m\u001b[0m\n\u001b[0;32m     17\u001b[0m                                                      \u001b[0mylabel\u001b[0m\u001b[1;33m=\u001b[0m\u001b[1;34m\"Error in mm (Reproj.), pixels (Recon.)\"\u001b[0m\u001b[1;33m,\u001b[0m\u001b[1;33m\u001b[0m\u001b[1;33m\u001b[0m\u001b[0m\n\u001b[1;32m---> 18\u001b[1;33m                                                     edgecolor=[\"black\"])\n\u001b[0m\u001b[0;32m     19\u001b[0m \u001b[0max1\u001b[0m\u001b[1;33m.\u001b[0m\u001b[0mset_ylim\u001b[0m\u001b[1;33m(\u001b[0m\u001b[1;36m0\u001b[0m\u001b[1;33m,\u001b[0m \u001b[1;36m15\u001b[0m\u001b[1;33m)\u001b[0m\u001b[1;33m\u001b[0m\u001b[1;33m\u001b[0m\u001b[0m\n\u001b[0;32m     20\u001b[0m \u001b[1;33m\u001b[0m\u001b[0m\n",
      "\u001b[1;32mC:\\Code\\envs\\calib\\lib\\site-packages\\pandas\\plotting\\_core.py\u001b[0m in \u001b[0;36mbar\u001b[1;34m(self, x, y, **kwargs)\u001b[0m\n\u001b[0;32m   1128\u001b[0m         \u001b[0mother\u001b[0m \u001b[0maxis\u001b[0m \u001b[0mrepresents\u001b[0m \u001b[0ma\u001b[0m \u001b[0mmeasured\u001b[0m \u001b[0mvalue\u001b[0m\u001b[1;33m.\u001b[0m\u001b[1;33m\u001b[0m\u001b[1;33m\u001b[0m\u001b[0m\n\u001b[0;32m   1129\u001b[0m         \"\"\"\n\u001b[1;32m-> 1130\u001b[1;33m         \u001b[1;32mreturn\u001b[0m \u001b[0mself\u001b[0m\u001b[1;33m(\u001b[0m\u001b[0mkind\u001b[0m\u001b[1;33m=\u001b[0m\u001b[1;34m\"bar\"\u001b[0m\u001b[1;33m,\u001b[0m \u001b[0mx\u001b[0m\u001b[1;33m=\u001b[0m\u001b[0mx\u001b[0m\u001b[1;33m,\u001b[0m \u001b[0my\u001b[0m\u001b[1;33m=\u001b[0m\u001b[0my\u001b[0m\u001b[1;33m,\u001b[0m \u001b[1;33m**\u001b[0m\u001b[0mkwargs\u001b[0m\u001b[1;33m)\u001b[0m\u001b[1;33m\u001b[0m\u001b[1;33m\u001b[0m\u001b[0m\n\u001b[0m\u001b[0;32m   1131\u001b[0m \u001b[1;33m\u001b[0m\u001b[0m\n\u001b[0;32m   1132\u001b[0m     @Appender(\n",
      "\u001b[1;32mC:\\Code\\envs\\calib\\lib\\site-packages\\pandas\\plotting\\_core.py\u001b[0m in \u001b[0;36m__call__\u001b[1;34m(self, *args, **kwargs)\u001b[0m\n\u001b[0;32m    970\u001b[0m                     \u001b[0mdata\u001b[0m\u001b[1;33m.\u001b[0m\u001b[0mcolumns\u001b[0m \u001b[1;33m=\u001b[0m \u001b[0mlabel_name\u001b[0m\u001b[1;33m\u001b[0m\u001b[1;33m\u001b[0m\u001b[0m\n\u001b[0;32m    971\u001b[0m \u001b[1;33m\u001b[0m\u001b[0m\n\u001b[1;32m--> 972\u001b[1;33m         \u001b[1;32mreturn\u001b[0m \u001b[0mplot_backend\u001b[0m\u001b[1;33m.\u001b[0m\u001b[0mplot\u001b[0m\u001b[1;33m(\u001b[0m\u001b[0mdata\u001b[0m\u001b[1;33m,\u001b[0m \u001b[0mkind\u001b[0m\u001b[1;33m=\u001b[0m\u001b[0mkind\u001b[0m\u001b[1;33m,\u001b[0m \u001b[1;33m**\u001b[0m\u001b[0mkwargs\u001b[0m\u001b[1;33m)\u001b[0m\u001b[1;33m\u001b[0m\u001b[1;33m\u001b[0m\u001b[0m\n\u001b[0m\u001b[0;32m    973\u001b[0m \u001b[1;33m\u001b[0m\u001b[0m\n\u001b[0;32m    974\u001b[0m     \u001b[0m__call__\u001b[0m\u001b[1;33m.\u001b[0m\u001b[0m__doc__\u001b[0m \u001b[1;33m=\u001b[0m \u001b[0m__doc__\u001b[0m\u001b[1;33m\u001b[0m\u001b[1;33m\u001b[0m\u001b[0m\n",
      "\u001b[1;32mC:\\Code\\envs\\calib\\lib\\site-packages\\pandas\\plotting\\_matplotlib\\__init__.py\u001b[0m in \u001b[0;36mplot\u001b[1;34m(data, kind, **kwargs)\u001b[0m\n\u001b[0;32m     69\u001b[0m             \u001b[0mkwargs\u001b[0m\u001b[1;33m[\u001b[0m\u001b[1;34m\"ax\"\u001b[0m\u001b[1;33m]\u001b[0m \u001b[1;33m=\u001b[0m \u001b[0mgetattr\u001b[0m\u001b[1;33m(\u001b[0m\u001b[0max\u001b[0m\u001b[1;33m,\u001b[0m \u001b[1;34m\"left_ax\"\u001b[0m\u001b[1;33m,\u001b[0m \u001b[0max\u001b[0m\u001b[1;33m)\u001b[0m\u001b[1;33m\u001b[0m\u001b[1;33m\u001b[0m\u001b[0m\n\u001b[0;32m     70\u001b[0m     \u001b[0mplot_obj\u001b[0m \u001b[1;33m=\u001b[0m \u001b[0mPLOT_CLASSES\u001b[0m\u001b[1;33m[\u001b[0m\u001b[0mkind\u001b[0m\u001b[1;33m]\u001b[0m\u001b[1;33m(\u001b[0m\u001b[0mdata\u001b[0m\u001b[1;33m,\u001b[0m \u001b[1;33m**\u001b[0m\u001b[0mkwargs\u001b[0m\u001b[1;33m)\u001b[0m\u001b[1;33m\u001b[0m\u001b[1;33m\u001b[0m\u001b[0m\n\u001b[1;32m---> 71\u001b[1;33m     \u001b[0mplot_obj\u001b[0m\u001b[1;33m.\u001b[0m\u001b[0mgenerate\u001b[0m\u001b[1;33m(\u001b[0m\u001b[1;33m)\u001b[0m\u001b[1;33m\u001b[0m\u001b[1;33m\u001b[0m\u001b[0m\n\u001b[0m\u001b[0;32m     72\u001b[0m     \u001b[0mplot_obj\u001b[0m\u001b[1;33m.\u001b[0m\u001b[0mdraw\u001b[0m\u001b[1;33m(\u001b[0m\u001b[1;33m)\u001b[0m\u001b[1;33m\u001b[0m\u001b[1;33m\u001b[0m\u001b[0m\n\u001b[0;32m     73\u001b[0m     \u001b[1;32mreturn\u001b[0m \u001b[0mplot_obj\u001b[0m\u001b[1;33m.\u001b[0m\u001b[0mresult\u001b[0m\u001b[1;33m\u001b[0m\u001b[1;33m\u001b[0m\u001b[0m\n",
      "\u001b[1;32mC:\\Code\\envs\\calib\\lib\\site-packages\\pandas\\plotting\\_matplotlib\\core.py\u001b[0m in \u001b[0;36mgenerate\u001b[1;34m(self)\u001b[0m\n\u001b[0;32m    286\u001b[0m         \u001b[0mself\u001b[0m\u001b[1;33m.\u001b[0m\u001b[0m_compute_plot_data\u001b[0m\u001b[1;33m(\u001b[0m\u001b[1;33m)\u001b[0m\u001b[1;33m\u001b[0m\u001b[1;33m\u001b[0m\u001b[0m\n\u001b[0;32m    287\u001b[0m         \u001b[0mself\u001b[0m\u001b[1;33m.\u001b[0m\u001b[0m_setup_subplots\u001b[0m\u001b[1;33m(\u001b[0m\u001b[1;33m)\u001b[0m\u001b[1;33m\u001b[0m\u001b[1;33m\u001b[0m\u001b[0m\n\u001b[1;32m--> 288\u001b[1;33m         \u001b[0mself\u001b[0m\u001b[1;33m.\u001b[0m\u001b[0m_make_plot\u001b[0m\u001b[1;33m(\u001b[0m\u001b[1;33m)\u001b[0m\u001b[1;33m\u001b[0m\u001b[1;33m\u001b[0m\u001b[0m\n\u001b[0m\u001b[0;32m    289\u001b[0m         \u001b[0mself\u001b[0m\u001b[1;33m.\u001b[0m\u001b[0m_add_table\u001b[0m\u001b[1;33m(\u001b[0m\u001b[1;33m)\u001b[0m\u001b[1;33m\u001b[0m\u001b[1;33m\u001b[0m\u001b[0m\n\u001b[0;32m    290\u001b[0m         \u001b[0mself\u001b[0m\u001b[1;33m.\u001b[0m\u001b[0m_make_legend\u001b[0m\u001b[1;33m(\u001b[0m\u001b[1;33m)\u001b[0m\u001b[1;33m\u001b[0m\u001b[1;33m\u001b[0m\u001b[0m\n",
      "\u001b[1;32mC:\\Code\\envs\\calib\\lib\\site-packages\\pandas\\plotting\\_matplotlib\\core.py\u001b[0m in \u001b[0;36m_make_plot\u001b[1;34m(self)\u001b[0m\n\u001b[0;32m   1515\u001b[0m                     \u001b[0mlabel\u001b[0m\u001b[1;33m=\u001b[0m\u001b[0mlabel\u001b[0m\u001b[1;33m,\u001b[0m\u001b[1;33m\u001b[0m\u001b[1;33m\u001b[0m\u001b[0m\n\u001b[0;32m   1516\u001b[0m                     \u001b[0mlog\u001b[0m\u001b[1;33m=\u001b[0m\u001b[0mself\u001b[0m\u001b[1;33m.\u001b[0m\u001b[0mlog\u001b[0m\u001b[1;33m,\u001b[0m\u001b[1;33m\u001b[0m\u001b[1;33m\u001b[0m\u001b[0m\n\u001b[1;32m-> 1517\u001b[1;33m                     \u001b[1;33m**\u001b[0m\u001b[0mkwds\u001b[0m\u001b[1;33m,\u001b[0m\u001b[1;33m\u001b[0m\u001b[1;33m\u001b[0m\u001b[0m\n\u001b[0m\u001b[0;32m   1518\u001b[0m                 )\n\u001b[0;32m   1519\u001b[0m             \u001b[0mself\u001b[0m\u001b[1;33m.\u001b[0m\u001b[0m_append_legend_handles_labels\u001b[0m\u001b[1;33m(\u001b[0m\u001b[0mrect\u001b[0m\u001b[1;33m,\u001b[0m \u001b[0mlabel\u001b[0m\u001b[1;33m)\u001b[0m\u001b[1;33m\u001b[0m\u001b[1;33m\u001b[0m\u001b[0m\n",
      "\u001b[1;32mC:\\Code\\envs\\calib\\lib\\site-packages\\pandas\\plotting\\_matplotlib\\core.py\u001b[0m in \u001b[0;36m_plot\u001b[1;34m(cls, ax, x, y, w, start, log, **kwds)\u001b[0m\n\u001b[0;32m   1437\u001b[0m     \u001b[1;33m@\u001b[0m\u001b[0mclassmethod\u001b[0m\u001b[1;33m\u001b[0m\u001b[1;33m\u001b[0m\u001b[0m\n\u001b[0;32m   1438\u001b[0m     \u001b[1;32mdef\u001b[0m \u001b[0m_plot\u001b[0m\u001b[1;33m(\u001b[0m\u001b[0mcls\u001b[0m\u001b[1;33m,\u001b[0m \u001b[0max\u001b[0m\u001b[1;33m:\u001b[0m \u001b[0mAxes\u001b[0m\u001b[1;33m,\u001b[0m \u001b[0mx\u001b[0m\u001b[1;33m,\u001b[0m \u001b[0my\u001b[0m\u001b[1;33m,\u001b[0m \u001b[0mw\u001b[0m\u001b[1;33m,\u001b[0m \u001b[0mstart\u001b[0m\u001b[1;33m=\u001b[0m\u001b[1;36m0\u001b[0m\u001b[1;33m,\u001b[0m \u001b[0mlog\u001b[0m\u001b[1;33m=\u001b[0m\u001b[1;32mFalse\u001b[0m\u001b[1;33m,\u001b[0m \u001b[1;33m**\u001b[0m\u001b[0mkwds\u001b[0m\u001b[1;33m)\u001b[0m\u001b[1;33m:\u001b[0m\u001b[1;33m\u001b[0m\u001b[1;33m\u001b[0m\u001b[0m\n\u001b[1;32m-> 1439\u001b[1;33m         \u001b[1;32mreturn\u001b[0m \u001b[0max\u001b[0m\u001b[1;33m.\u001b[0m\u001b[0mbar\u001b[0m\u001b[1;33m(\u001b[0m\u001b[0mx\u001b[0m\u001b[1;33m,\u001b[0m \u001b[0my\u001b[0m\u001b[1;33m,\u001b[0m \u001b[0mw\u001b[0m\u001b[1;33m,\u001b[0m \u001b[0mbottom\u001b[0m\u001b[1;33m=\u001b[0m\u001b[0mstart\u001b[0m\u001b[1;33m,\u001b[0m \u001b[0mlog\u001b[0m\u001b[1;33m=\u001b[0m\u001b[0mlog\u001b[0m\u001b[1;33m,\u001b[0m \u001b[1;33m**\u001b[0m\u001b[0mkwds\u001b[0m\u001b[1;33m)\u001b[0m\u001b[1;33m\u001b[0m\u001b[1;33m\u001b[0m\u001b[0m\n\u001b[0m\u001b[0;32m   1440\u001b[0m \u001b[1;33m\u001b[0m\u001b[0m\n\u001b[0;32m   1441\u001b[0m     \u001b[1;33m@\u001b[0m\u001b[0mproperty\u001b[0m\u001b[1;33m\u001b[0m\u001b[1;33m\u001b[0m\u001b[0m\n",
      "\u001b[1;32mC:\\Code\\envs\\calib\\lib\\site-packages\\matplotlib\\__init__.py\u001b[0m in \u001b[0;36minner\u001b[1;34m(ax, data, *args, **kwargs)\u001b[0m\n\u001b[0;32m   1359\u001b[0m     \u001b[1;32mdef\u001b[0m \u001b[0minner\u001b[0m\u001b[1;33m(\u001b[0m\u001b[0max\u001b[0m\u001b[1;33m,\u001b[0m \u001b[1;33m*\u001b[0m\u001b[0margs\u001b[0m\u001b[1;33m,\u001b[0m \u001b[0mdata\u001b[0m\u001b[1;33m=\u001b[0m\u001b[1;32mNone\u001b[0m\u001b[1;33m,\u001b[0m \u001b[1;33m**\u001b[0m\u001b[0mkwargs\u001b[0m\u001b[1;33m)\u001b[0m\u001b[1;33m:\u001b[0m\u001b[1;33m\u001b[0m\u001b[1;33m\u001b[0m\u001b[0m\n\u001b[0;32m   1360\u001b[0m         \u001b[1;32mif\u001b[0m \u001b[0mdata\u001b[0m \u001b[1;32mis\u001b[0m \u001b[1;32mNone\u001b[0m\u001b[1;33m:\u001b[0m\u001b[1;33m\u001b[0m\u001b[1;33m\u001b[0m\u001b[0m\n\u001b[1;32m-> 1361\u001b[1;33m             \u001b[1;32mreturn\u001b[0m \u001b[0mfunc\u001b[0m\u001b[1;33m(\u001b[0m\u001b[0max\u001b[0m\u001b[1;33m,\u001b[0m \u001b[1;33m*\u001b[0m\u001b[0mmap\u001b[0m\u001b[1;33m(\u001b[0m\u001b[0msanitize_sequence\u001b[0m\u001b[1;33m,\u001b[0m \u001b[0margs\u001b[0m\u001b[1;33m)\u001b[0m\u001b[1;33m,\u001b[0m \u001b[1;33m**\u001b[0m\u001b[0mkwargs\u001b[0m\u001b[1;33m)\u001b[0m\u001b[1;33m\u001b[0m\u001b[1;33m\u001b[0m\u001b[0m\n\u001b[0m\u001b[0;32m   1362\u001b[0m \u001b[1;33m\u001b[0m\u001b[0m\n\u001b[0;32m   1363\u001b[0m         \u001b[0mbound\u001b[0m \u001b[1;33m=\u001b[0m \u001b[0mnew_sig\u001b[0m\u001b[1;33m.\u001b[0m\u001b[0mbind\u001b[0m\u001b[1;33m(\u001b[0m\u001b[0max\u001b[0m\u001b[1;33m,\u001b[0m \u001b[1;33m*\u001b[0m\u001b[0margs\u001b[0m\u001b[1;33m,\u001b[0m \u001b[1;33m**\u001b[0m\u001b[0mkwargs\u001b[0m\u001b[1;33m)\u001b[0m\u001b[1;33m\u001b[0m\u001b[1;33m\u001b[0m\u001b[0m\n",
      "\u001b[1;32mC:\\Code\\envs\\calib\\lib\\site-packages\\matplotlib\\axes\\_axes.py\u001b[0m in \u001b[0;36mbar\u001b[1;34m(self, x, height, width, bottom, align, **kwargs)\u001b[0m\n\u001b[0;32m   2387\u001b[0m             errorbar = self.errorbar(ex, ey,\n\u001b[0;32m   2388\u001b[0m                                      \u001b[0myerr\u001b[0m\u001b[1;33m=\u001b[0m\u001b[0myerr\u001b[0m\u001b[1;33m,\u001b[0m \u001b[0mxerr\u001b[0m\u001b[1;33m=\u001b[0m\u001b[0mxerr\u001b[0m\u001b[1;33m,\u001b[0m\u001b[1;33m\u001b[0m\u001b[1;33m\u001b[0m\u001b[0m\n\u001b[1;32m-> 2389\u001b[1;33m                                      fmt='none', **error_kw)\n\u001b[0m\u001b[0;32m   2390\u001b[0m         \u001b[1;32melse\u001b[0m\u001b[1;33m:\u001b[0m\u001b[1;33m\u001b[0m\u001b[1;33m\u001b[0m\u001b[0m\n\u001b[0;32m   2391\u001b[0m             \u001b[0merrorbar\u001b[0m \u001b[1;33m=\u001b[0m \u001b[1;32mNone\u001b[0m\u001b[1;33m\u001b[0m\u001b[1;33m\u001b[0m\u001b[0m\n",
      "\u001b[1;32mC:\\Code\\envs\\calib\\lib\\site-packages\\matplotlib\\__init__.py\u001b[0m in \u001b[0;36minner\u001b[1;34m(ax, data, *args, **kwargs)\u001b[0m\n\u001b[0;32m   1359\u001b[0m     \u001b[1;32mdef\u001b[0m \u001b[0minner\u001b[0m\u001b[1;33m(\u001b[0m\u001b[0max\u001b[0m\u001b[1;33m,\u001b[0m \u001b[1;33m*\u001b[0m\u001b[0margs\u001b[0m\u001b[1;33m,\u001b[0m \u001b[0mdata\u001b[0m\u001b[1;33m=\u001b[0m\u001b[1;32mNone\u001b[0m\u001b[1;33m,\u001b[0m \u001b[1;33m**\u001b[0m\u001b[0mkwargs\u001b[0m\u001b[1;33m)\u001b[0m\u001b[1;33m:\u001b[0m\u001b[1;33m\u001b[0m\u001b[1;33m\u001b[0m\u001b[0m\n\u001b[0;32m   1360\u001b[0m         \u001b[1;32mif\u001b[0m \u001b[0mdata\u001b[0m \u001b[1;32mis\u001b[0m \u001b[1;32mNone\u001b[0m\u001b[1;33m:\u001b[0m\u001b[1;33m\u001b[0m\u001b[1;33m\u001b[0m\u001b[0m\n\u001b[1;32m-> 1361\u001b[1;33m             \u001b[1;32mreturn\u001b[0m \u001b[0mfunc\u001b[0m\u001b[1;33m(\u001b[0m\u001b[0max\u001b[0m\u001b[1;33m,\u001b[0m \u001b[1;33m*\u001b[0m\u001b[0mmap\u001b[0m\u001b[1;33m(\u001b[0m\u001b[0msanitize_sequence\u001b[0m\u001b[1;33m,\u001b[0m \u001b[0margs\u001b[0m\u001b[1;33m)\u001b[0m\u001b[1;33m,\u001b[0m \u001b[1;33m**\u001b[0m\u001b[0mkwargs\u001b[0m\u001b[1;33m)\u001b[0m\u001b[1;33m\u001b[0m\u001b[1;33m\u001b[0m\u001b[0m\n\u001b[0m\u001b[0;32m   1362\u001b[0m \u001b[1;33m\u001b[0m\u001b[0m\n\u001b[0;32m   1363\u001b[0m         \u001b[0mbound\u001b[0m \u001b[1;33m=\u001b[0m \u001b[0mnew_sig\u001b[0m\u001b[1;33m.\u001b[0m\u001b[0mbind\u001b[0m\u001b[1;33m(\u001b[0m\u001b[0max\u001b[0m\u001b[1;33m,\u001b[0m \u001b[1;33m*\u001b[0m\u001b[0margs\u001b[0m\u001b[1;33m,\u001b[0m \u001b[1;33m**\u001b[0m\u001b[0mkwargs\u001b[0m\u001b[1;33m)\u001b[0m\u001b[1;33m\u001b[0m\u001b[1;33m\u001b[0m\u001b[0m\n",
      "\u001b[1;32mC:\\Code\\envs\\calib\\lib\\site-packages\\matplotlib\\axes\\_axes.py\u001b[0m in \u001b[0;36merrorbar\u001b[1;34m(self, x, y, yerr, xerr, fmt, ecolor, elinewidth, capsize, barsabove, lolims, uplims, xlolims, xuplims, errorevery, capthick, **kwargs)\u001b[0m\n\u001b[0;32m   3493\u001b[0m \u001b[1;33m\u001b[0m\u001b[0m\n\u001b[0;32m   3494\u001b[0m         \u001b[1;32mif\u001b[0m \u001b[0myerr\u001b[0m \u001b[1;32mis\u001b[0m \u001b[1;32mnot\u001b[0m \u001b[1;32mNone\u001b[0m\u001b[1;33m:\u001b[0m\u001b[1;33m\u001b[0m\u001b[1;33m\u001b[0m\u001b[0m\n\u001b[1;32m-> 3495\u001b[1;33m             \u001b[0mlower\u001b[0m\u001b[1;33m,\u001b[0m \u001b[0mupper\u001b[0m \u001b[1;33m=\u001b[0m \u001b[0mextract_err\u001b[0m\u001b[1;33m(\u001b[0m\u001b[1;34m'y'\u001b[0m\u001b[1;33m,\u001b[0m \u001b[0myerr\u001b[0m\u001b[1;33m,\u001b[0m \u001b[0my\u001b[0m\u001b[1;33m,\u001b[0m \u001b[0mlolims\u001b[0m\u001b[1;33m,\u001b[0m \u001b[0muplims\u001b[0m\u001b[1;33m)\u001b[0m\u001b[1;33m\u001b[0m\u001b[1;33m\u001b[0m\u001b[0m\n\u001b[0m\u001b[0;32m   3496\u001b[0m             barcols.append(self.vlines(\n\u001b[0;32m   3497\u001b[0m                 *apply_mask([x, lower, upper], everymask), **eb_lines_style))\n",
      "\u001b[1;32mC:\\Code\\envs\\calib\\lib\\site-packages\\matplotlib\\axes\\_axes.py\u001b[0m in \u001b[0;36mextract_err\u001b[1;34m(name, err, data, lolims, uplims)\u001b[0m\n\u001b[0;32m   3451\u001b[0m                 \u001b[1;32mif\u001b[0m \u001b[0mlen\u001b[0m\u001b[1;33m(\u001b[0m\u001b[0mdata\u001b[0m\u001b[1;33m)\u001b[0m \u001b[1;33m!=\u001b[0m \u001b[0mlen\u001b[0m\u001b[1;33m(\u001b[0m\u001b[0me\u001b[0m\u001b[1;33m)\u001b[0m\u001b[1;33m:\u001b[0m\u001b[1;33m\u001b[0m\u001b[1;33m\u001b[0m\u001b[0m\n\u001b[0;32m   3452\u001b[0m                     raise ValueError(\n\u001b[1;32m-> 3453\u001b[1;33m                         \u001b[1;34mf\"The lengths of the data ({len(data)}) and the \"\u001b[0m\u001b[1;33m\u001b[0m\u001b[1;33m\u001b[0m\u001b[0m\n\u001b[0m\u001b[0;32m   3454\u001b[0m                         f\"error {len(e)} do not match\")\n\u001b[0;32m   3455\u001b[0m             \u001b[0mlow\u001b[0m \u001b[1;33m=\u001b[0m \u001b[1;33m[\u001b[0m\u001b[0mv\u001b[0m \u001b[1;32mif\u001b[0m \u001b[0mlo\u001b[0m \u001b[1;32melse\u001b[0m \u001b[0mv\u001b[0m \u001b[1;33m-\u001b[0m \u001b[0me\u001b[0m \u001b[1;32mfor\u001b[0m \u001b[0mv\u001b[0m\u001b[1;33m,\u001b[0m \u001b[0me\u001b[0m\u001b[1;33m,\u001b[0m \u001b[0mlo\u001b[0m \u001b[1;32min\u001b[0m \u001b[0mzip\u001b[0m\u001b[1;33m(\u001b[0m\u001b[0mdata\u001b[0m\u001b[1;33m,\u001b[0m \u001b[0ma\u001b[0m\u001b[1;33m,\u001b[0m \u001b[0mlolims\u001b[0m\u001b[1;33m)\u001b[0m\u001b[1;33m]\u001b[0m\u001b[1;33m\u001b[0m\u001b[1;33m\u001b[0m\u001b[0m\n",
      "\u001b[1;31mValueError\u001b[0m: The lengths of the data (4) and the error 16 do not match"
     ]
    },
    {
     "data": {
      "image/png": "[encoded data removed]",
      "text/plain": [
       "<Figure size 864x432 with 1 Axes>"
      ]
     },
     "metadata": {
      "needs_background": "light"
     },
     "output_type": "display_data"
    }
   ],
   "source": [
    "precalib_means, precalib_stds = summarise_datasets(precalib_data, [\"charuco_rig\", \"dots_rig\", \"charuco_freehand\", \"dots_freehand\"])\n",
    "\n",
    "columns_to_plot = [\"Reproj.\", \"Recon.\", \"Tracked Reproj.\", \"Tracked Recon.\"]\n",
    "\n",
    "labels = [\"Reproj.\", \"Recon.\", \"Tracked Reproj.\", \"Tracked Recon.\"]\n",
    "\n",
    "fig1 = plt.figure(figsize=(figsize))\n",
    "ax1 = fig1.add_subplot(1, 1, 1)\n",
    "\n",
    "precalib_means[columns_to_plot].transpose().plot.bar(title=\"Mean Errors, Precalibration Analysis\",\n",
    "                                                     ax=ax1,\n",
    "                                                     yerr=precalib_stds[columns_to_plot].transpose(),\n",
    "                                                     ecolor='black',\n",
    "                                                     capsize=3,\n",
    "                                                     rot=0,\n",
    "                                                     legend=None,\n",
    "                                                     ylabel=\"Error in mm (Reproj.), pixels (Recon.)\",\n",
    "                                                    edgecolor=[\"black\"])\n",
    "ax1.set_ylim(0, 15)\n",
    "\n",
    "n_charuco_rig = len(precalib_data[\"charuco_rig\"])\n",
    "n_dots_rig = len(precalib_data[\"dots_rig\"])\n",
    "n_charuco_freehand = len(precalib_data[\"charuco_freehand\"])\n",
    "n_dots_freehand = len(precalib_data[\"dots_freehand\"])\n",
    "\n",
    "L = ax1.legend(prop={'size': 16}, loc='upper left')\n",
    "legend = [f\"ChArUco Rig (n={n_charuco_rig})\", f\"Dots Rig (n={n_dots_rig})\", f\"ChArUco Freehand (n={n_charuco_freehand})\", f\"Dots Freehand (n={n_dots_freehand})\"]\n",
    "L.get_texts()[0].set_text(legend[0])\n",
    "L.get_texts()[1].set_text(legend[1])\n",
    "L.get_texts()[2].set_text(legend[2])\n",
    "L.get_texts()[3].set_text(legend[3])\n",
    "\n",
    "\n",
    "plt.savefig('plots/_precalib_charuco_vs_dots_vs_freehand_mean.png', dpi=600)\n",
    "\n",
    "print(\"Mean Values\")\n",
    "precalib_means"
   ]
  },
  {
   "cell_type": "code",
   "execution_count": 82,
   "metadata": {},
   "outputs": [
    {
     "data": {
      "text/html": [
       "<div>\n",
       "<style scoped>\n",
       "    .dataframe tbody tr th:only-of-type {\n",
       "        vertical-align: middle;\n",
       "    }\n",
       "\n",
       "    .dataframe tbody tr th {\n",
       "        vertical-align: top;\n",
       "    }\n",
       "\n",
       "    .dataframe thead th {\n",
       "        text-align: right;\n",
       "    }\n",
       "</style>\n",
       "<table border=\"1\" class=\"dataframe\">\n",
       "  <thead>\n",
       "    <tr style=\"text-align: right;\">\n",
       "      <th></th>\n",
       "      <th>charuco_rig</th>\n",
       "      <th>dots_rig</th>\n",
       "      <th>charuco_freehand</th>\n",
       "      <th>dots_freehand</th>\n",
       "    </tr>\n",
       "  </thead>\n",
       "  <tbody>\n",
       "    <tr>\n",
       "      <th>Reproj.</th>\n",
       "      <td>0.080783</td>\n",
       "      <td>0.246308</td>\n",
       "      <td>0.400772</td>\n",
       "      <td>2.536428</td>\n",
       "    </tr>\n",
       "    <tr>\n",
       "      <th>Recon.</th>\n",
       "      <td>0.182799</td>\n",
       "      <td>0.385266</td>\n",
       "      <td>0.896559</td>\n",
       "      <td>15.192824</td>\n",
       "    </tr>\n",
       "    <tr>\n",
       "      <th>Tracked Reproj.</th>\n",
       "      <td>0.200603</td>\n",
       "      <td>0.263655</td>\n",
       "      <td>1.104587</td>\n",
       "      <td>26.641453</td>\n",
       "    </tr>\n",
       "    <tr>\n",
       "      <th>Tracked Recon.</th>\n",
       "      <td>0.183055</td>\n",
       "      <td>0.383688</td>\n",
       "      <td>1.074102</td>\n",
       "      <td>20.302250</td>\n",
       "    </tr>\n",
       "  </tbody>\n",
       "</table>\n",
       "</div>"
      ],
      "text/plain": [
       "                 charuco_rig  dots_rig  charuco_freehand  dots_freehand\n",
       "Reproj.             0.080783  0.246308          0.400772       2.536428\n",
       "Recon.              0.182799  0.385266          0.896559      15.192824\n",
       "Tracked Reproj.     0.200603  0.263655          1.104587      26.641453\n",
       "Tracked Recon.      0.183055  0.383688          1.074102      20.302250"
      ]
     },
     "execution_count": 82,
     "metadata": {},
     "output_type": "execute_result"
    }
   ],
   "source": [
    "precalib_stds[columns_to_plot].transpose()"
   ]
  },
  {
   "cell_type": "markdown",
   "metadata": {},
   "source": [
    "## Freehand vs rig ttest"
   ]
  },
  {
   "cell_type": "code",
   "execution_count": 65,
   "metadata": {},
   "outputs": [
    {
     "name": "stdout",
     "output_type": "stream",
     "text": [
      "Reprojection p-value: 2.4187550412562098e-08\n",
      "Reconstruction p-value: 5.990202186324267e-07\n",
      "Tracked Reprojection p-value: 0.011318034440737507\n",
      "Tracked Reconstruction p-value: 1.2997869108924375e-06\n"
     ]
    }
   ],
   "source": [
    "t_test_vals = do_ttest(precalib_data, \"dots_rig\", \"dots_freehand\")"
   ]
  },
  {
   "cell_type": "markdown",
   "metadata": {},
   "source": [
    "## Charuco vs dots ttest"
   ]
  },
  {
   "cell_type": "code",
   "execution_count": 66,
   "metadata": {},
   "outputs": [
    {
     "name": "stdout",
     "output_type": "stream",
     "text": [
      "Reprojection p-value: 3.0038369534827313e-134\n",
      "Reconstruction p-value: 3.2979547347330485e-14\n",
      "Tracked Reprojection p-value: 1.0057491373328632e-124\n",
      "Tracked Reconstruction p-value: 1.6336409127974474e-13\n"
     ]
    }
   ],
   "source": [
    "t_test_vals = do_ttest(precalib_data, \"dots_rig\", \"charuco_rig\")"
   ]
  },
  {
   "cell_type": "markdown",
   "metadata": {},
   "source": [
    "## Compare errors from the two analysis  methods"
   ]
  },
  {
   "cell_type": "code",
   "execution_count": 48,
   "metadata": {},
   "outputs": [
    {
     "data": {
      "image/png": "[encoded data removed]",
      "text/plain": [
       "<Figure size 864x432 with 1 Axes>"
      ]
     },
     "metadata": {
      "needs_background": "light"
     },
     "output_type": "display_data"
    },
    {
     "data": {
      "image/png": "[encoded data removed]",
      "text/plain": [
       "<Figure size 864x432 with 1 Axes>"
      ]
     },
     "metadata": {
      "needs_background": "light"
     },
     "output_type": "display_data"
    }
   ],
   "source": [
    "columns_to_plot = [\"Reproj.\", \"Recon.\", \"Tracked Reproj.\", \"Tracked Recon.\"]\n",
    "labels = [\"Reproj.\", \"Recon.\", \"Tracked Reproj.\", \"Tracked Recon.\"]\n",
    "\n",
    "charuco = pd.DataFrame()\n",
    "dots = pd.DataFrame()\n",
    "\n",
    "# Move the data into a format that can be plotted as desired\n",
    "charuco[\"With_precalib\"] = precalib_means.transpose()[\"charuco_rig\"]\n",
    "charuco[\"Without_precalib\"] = means.transpose()[\"charuco_rig\"]\n",
    "dots[\"With_precalib\"] = precalib_means.transpose()[\"dots_rig\"]\n",
    "dots[\"Without_precalib\"] = means.transpose()[\"dots_rig\"]\n",
    "\n",
    "charuco = charuco.transpose()\n",
    "dots = dots.transpose()\n",
    "\n",
    "# Plot Charuco\n",
    "fig1 = plt.figure(figsize=(figsize))\n",
    "ax1 = fig1.add_subplot(1, 1, 1)\n",
    "\n",
    "charuco[columns_to_plot].transpose().plot.bar(title=\"ChArUco Mean Errors with/without precalibration\",\n",
    "                                                        ax=ax1,\n",
    "                                                        legend=None,\n",
    "                                                        ylabel=\"Error in mm (Reproj.), pixels (Recon.)\",\n",
    "                                                        rot=0,\n",
    "                                                         edgecolor=[\"black\"])\n",
    "ax1.set_ylim(0, 3)\n",
    "\n",
    "L = ax1.legend(prop={'size': 16})\n",
    "legend = [f\"Precalibration\", f\"Traditional\"]\n",
    "L.get_texts()[0].set_text(legend[0])\n",
    "L.get_texts()[1].set_text(legend[1])\n",
    "\n",
    "plt.savefig('plots/charuco_precalib_vs_no_precalib.png', dpi=600)\n",
    "\n",
    "# Plot dots\n",
    "fig1 = plt.figure(figsize=(figsize))\n",
    "ax1 = fig1.add_subplot(1, 1, 1)\n",
    "\n",
    "dots[columns_to_plot].transpose().plot.bar(title=\"Dots Mean Errors with/without precalibration\",\n",
    "                                                        ax=ax1,\n",
    "                                                        legend=None,\n",
    "                                                       rot=0,\n",
    "                                                        ylabel=\"Error in mm (Reproj.), pixels (Recon.)\",\n",
    "                                                      edgecolor=[\"black\"])\n",
    "ax1.set_ylim(0, 3)\n",
    "\n",
    "L = ax1.legend(prop={'size': 16})\n",
    "legend = [f\"Precalibration\", f\"Traditional\"]\n",
    "L.get_texts()[0].set_text(legend[0])\n",
    "L.get_texts()[1].set_text(legend[1])\n",
    "\n",
    "plt.savefig('plots/Dots_precalib_vs_no_precalib.png', dpi=600)"
   ]
  },
  {
   "cell_type": "code",
   "execution_count": null,
   "metadata": {},
   "outputs": [],
   "source": []
  },
  {
   "cell_type": "code",
   "execution_count": null,
   "metadata": {},
   "outputs": [],
   "source": []
  },
  {
   "cell_type": "code",
   "execution_count": null,
   "metadata": {},
   "outputs": [],
   "source": []
  }
 ],
 "metadata": {
  "kernelspec": {
   "display_name": "Python 3 (ipykernel)",
   "language": "python",
   "name": "python3"
  },
  "language_info": {
   "codemirror_mode": {
    "name": "ipython",
    "version": 3
   },
   "file_extension": ".py",
   "mimetype": "text/x-python",
   "name": "python",
   "nbconvert_exporter": "python",
   "pygments_lexer": "ipython3",
   "version": "3.7.9"
  }
 },
 "nbformat": 4,
 "nbformat_minor": 4
}
